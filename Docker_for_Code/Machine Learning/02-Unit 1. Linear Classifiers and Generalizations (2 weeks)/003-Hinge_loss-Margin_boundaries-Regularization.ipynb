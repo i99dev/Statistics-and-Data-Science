{
 "cells": [
  {
   "cell_type": "markdown",
   "metadata": {},
   "source": [
    "### Lecture 3: Hinge loss, margin boundaries, and regularization\n",
    "- what is hing loss ?\n",
    "    - it is a loss function that penalizes the difference between the prediction and the target use for binary classification.\n",
    "\n",
    "    ![hing loss](./assets/hingel-loss.png)\n",
    "- what is margin boundaries ?\n",
    "    - it is the distance between the prediction and the target.\n",
    "    \n",
    "    ![margin boundaries](./assets/margin_boundaries.png)\n",
    "\n",
    "- what is regularization ?\n",
    "    - Regularization is a technique used to reduce the errors by fitting the function appropriately on the given training set and avoid overfitting.\n",
    "\n",
    "    ![Regularization](./assets/regularization.png)\n",
    "    - The commonly used regularization techniques are :\n",
    "        - L1 regularization.\n",
    "        - L2 regularization.\n",
    "        - Dropout regularization."
   ]
  },
  {
   "cell_type": "code",
   "execution_count": 177,
   "metadata": {},
   "outputs": [],
   "source": [
    "# i will trying to undertand the margin boundaries and regularization\n",
    "import numpy as np\n",
    "import matplotlib.pyplot as plt\n",
    "import pandas as pd"
   ]
  },
  {
   "cell_type": "code",
   "execution_count": 178,
   "metadata": {},
   "outputs": [
    {
     "data": {
      "text/plain": [
       "array([[  3.385,  44.5  ],\n",
       "       [  0.48 ,  15.5  ],\n",
       "       [  1.35 ,   8.1  ],\n",
       "       [465.   , 423.   ],\n",
       "       [ 36.33 , 119.5  ]])"
      ]
     },
     "execution_count": 178,
     "metadata": {},
     "output_type": "execute_result"
    }
   ],
   "source": [
    "# read from txt file \n",
    "df = pd.read_csv('../../dataset/brain_body_one.txt', delim_whitespace=True  , names=['Brain', 'Body'])\n",
    "df.values[:5,:]\n"
   ]
  },
  {
   "cell_type": "code",
   "execution_count": 179,
   "metadata": {},
   "outputs": [
    {
     "data": {
      "image/png": "[encoded data removed]",
      "text/plain": [
       "<Figure size 432x288 with 1 Axes>"
      ]
     },
     "metadata": {
      "needs_background": "light"
     },
     "output_type": "display_data"
    }
   ],
   "source": [
    "# draw scatter plot\n",
    "plt.scatter(df.Brain, df.Body)\n",
    "plt.xlabel('Brain')\n",
    "plt.ylabel('Body')\n",
    "plt.show()"
   ]
  },
  {
   "cell_type": "code",
   "execution_count": 180,
   "metadata": {},
   "outputs": [
    {
     "data": {
      "image/png": "[encoded data removed]",
      "text/plain": [
       "<Figure size 432x288 with 1 Axes>"
      ]
     },
     "metadata": {
      "needs_background": "light"
     },
     "output_type": "display_data"
    }
   ],
   "source": [
    "# remove outliers\n",
    "df = df[(df.Brain < 15) & (df.Body < 60)]\n",
    "# draw scatter plot\n",
    "plt.scatter(df.Brain, df.Body)\n",
    "plt.xlabel('Brain')\n",
    "plt.ylabel('Body')\n",
    "plt.show()\n"
   ]
  },
  {
   "cell_type": "code",
   "execution_count": 181,
   "metadata": {},
   "outputs": [],
   "source": [
    "Xs = df.Brain.values\n",
    "ys = df.Body.values\n",
    "# split into train and test\n",
    "Xs_train = Xs[:-20]\n",
    "ys_train = ys[:-20]\n",
    "Xs_test = Xs[-20:]\n",
    "ys_test = ys[-20:]"
   ]
  },
  {
   "cell_type": "code",
   "execution_count": 182,
   "metadata": {},
   "outputs": [
    {
     "name": "stdout",
     "output_type": "stream",
     "text": [
      "[ 6.72683032 32.49748722 37.6516186   0.8230071  -0.08599425 -0.20781917\n",
      " 12.8180765  23.12633925  4.85260073 33.43460201 39.88195181  2.32239078\n",
      "  0.40130545  0.8417494   0.14828445 27.81191324  8.13250251 14.87972905\n",
      "  0.67306874 39.38528097]\n"
     ]
    }
   ],
   "source": [
    "# linear regression \n",
    "def linear_regression(Xs, ys):\n",
    "    # calculate the mean of Xs and ys\n",
    "    mean_Xs = np.mean(Xs)\n",
    "    mean_ys = np.mean(ys)\n",
    "    # calculate the slope and intercept\n",
    "    slope = np.sum((Xs - mean_Xs) * (ys - mean_ys)) / np.sum((Xs - mean_Xs) ** 2)\n",
    "    intercept = mean_ys - slope * mean_Xs\n",
    "    return slope, intercept\n",
    "\n",
    "def predict(Xs, slope, intercept):\n",
    "    return slope * Xs + intercept\n",
    "slop , intercept = linear_regression(Xs_train, ys_train)\n",
    "Yt = predict(Xs_test, slop, intercept)\n",
    "print(Yt)"
   ]
  },
  {
   "cell_type": "code",
   "execution_count": 183,
   "metadata": {},
   "outputs": [
    {
     "data": {
      "image/png": "[encoded data removed]",
      "text/plain": [
       "<Figure size 432x288 with 1 Axes>"
      ]
     },
     "metadata": {
      "needs_background": "light"
     },
     "output_type": "display_data"
    }
   ],
   "source": [
    "# draw scatter plot for training data set and line for Yt\n",
    "plt.scatter(Xs_train, ys_train)\n",
    "plt.plot(Xs_test, Yt)\n",
    "plt.xlabel('Brain')\n",
    "plt.ylabel('Body')\n",
    "plt.show()\n"
   ]
  },
  {
   "cell_type": "code",
   "execution_count": 184,
   "metadata": {},
   "outputs": [
    {
     "name": "stdout",
     "output_type": "stream",
     "text": [
      "0.5217051203887626\n"
     ]
    }
   ],
   "source": [
    "# r2 score\n",
    "def r2_score(ys_test, Yt):\n",
    "    return 1 - np.sum((ys_test - Yt) ** 2) / np.sum((ys_test - np.mean(ys_test)) ** 2)\n",
    "r2_score(ys_test, Yt)\n",
    "r21 =r2_score(ys_test, Yt)\n",
    "print(r2)"
   ]
  },
  {
   "cell_type": "markdown",
   "metadata": {},
   "source": [
    "#### Hing Loss\n",
    "The second most common loss function used for Classification problems and an alternative to Cross-Entropy loss function is Hinge Loss, primarily developed for Support Vector Machine (SVM) model evaluation.\n",
    "\n",
    "$L = \\sum_{i=1}^{n} \\max(0, 1 - y_i \\cdot \\hat{y}_i)$"
   ]
  },
  {
   "cell_type": "code",
   "execution_count": 185,
   "metadata": {},
   "outputs": [
    {
     "name": "stdout",
     "output_type": "stream",
     "text": [
      "0.18664224931846518\n"
     ]
    }
   ],
   "source": [
    "# hing loss\n",
    "def hinge_loss(ys_test, Yt):\n",
    "    return np.sum(np.maximum(0, 1 - (ys_test * Yt))) / len(ys_test)\n",
    "hl = hinge_loss(ys_test, Yt)\n",
    "print(hl)"
   ]
  },
  {
   "cell_type": "markdown",
   "metadata": {},
   "source": [
    "#### Regularization\n",
    "\n",
    "are techniques that seek to reduce overfitting (i.e., reduce generalization errors) by keeping network weights small. There are three very popular and efficient regularization techniques called L1, L2, and dropout.\n",
    "\n",
    "- L1 regularization.\n",
    "    In the case of L1 regularization (also knows as Lasso regression), we simply use another regularization term, Ω. This term is the sum of the absolute values of the weight parameters in a weight matrix. L1 encourages weights to 0.0 (if possible), which results in more sparse weights (more weights with values equal to 0.0). Hence, the cost function in L1 becomes:\n",
    "    \n",
    "    $L = \\sum_{i=1}^{n} \\max(0, 1 - y_i \\cdot \\hat{y}_i) + \\sum_{i=1}^{n} \\|w_i\\|$\n",
    "\n",
    "- L2 regularization.\n",
    "    L2 regularization offers more nuance by penalizing larger weights more severely, thus resulting in weights that are less sparse. The regularization term (Ω) is defined as the Euclidean Norm (or L2 norm) of the weight matrices and is the sum over all squared weight values of a weight matrix. The cost function in L2 becomes:\n",
    "\n",
    "    $L = \\sum_{i=1}^{n} \\max(0, 1 - y_i \\cdot \\hat{y}_i) + \\sum_{i=1}^{n} \\|w_i\\|^2$\n",
    "- Dropout regularization.\n",
    "    Dropout regularization involves a neuron of the neural network getting turned off during training with a probability of P. This results in a simpler neural network since some neurons are not active at all.\n",
    "\n",
    "    A simpler version of the neural network results in less complexity, which can reduce overfitting. The deactivation of neurons with a certain probability (P) is applied at each forward propagation and weight update step."
   ]
  },
  {
   "cell_type": "code",
   "execution_count": 190,
   "metadata": {},
   "outputs": [
    {
     "name": "stdout",
     "output_type": "stream",
     "text": [
      "9.371147962761862 -0.30153065202633833 4.685573981380931\n"
     ]
    }
   ],
   "source": [
    "# Regularization \n",
    "def regularization(Xs, ys, l):\n",
    "    # calculate the mean of Xs and ys\n",
    "    mean_Xs = np.mean(Xs)\n",
    "    mean_ys = np.mean(ys)\n",
    "    # calculate the slope and intercept\n",
    "    slope = np.sum((Xs - mean_Xs) * (ys - mean_ys)) / np.sum((Xs - mean_Xs) ** 2)\n",
    "    intercept = mean_ys - slope * mean_Xs\n",
    "    # calculate the regularization\n",
    "    regularization = l * slope\n",
    "    return slope, intercept, regularization\n",
    "slope, intercept, regularization_v = regularization(Xs_train, ys_train, 0.5)\n",
    "print(slope, intercept, regularization_v)"
   ]
  }
 ],
 "metadata": {
  "interpreter": {
   "hash": "949777d72b0d2535278d3dc13498b2535136f6dfe0678499012e853ee9abcab1"
  },
  "kernelspec": {
   "display_name": "Python 3.9.12 64-bit",
   "language": "python",
   "name": "python3"
  },
  "language_info": {
   "codemirror_mode": {
    "name": "ipython",
    "version": 3
   },
   "file_extension": ".py",
   "mimetype": "text/x-python",
   "name": "python",
   "nbconvert_exporter": "python",
   "pygments_lexer": "ipython3",
   "version": "3.9.12"
  },
  "orig_nbformat": 4
 },
 "nbformat": 4,
 "nbformat_minor": 2
}
