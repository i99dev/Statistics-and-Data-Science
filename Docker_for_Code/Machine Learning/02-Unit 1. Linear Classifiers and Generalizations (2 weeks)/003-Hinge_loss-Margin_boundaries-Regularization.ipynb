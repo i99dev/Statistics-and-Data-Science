{
 "cells": [
  {
   "cell_type": "markdown",
   "metadata": {},
   "source": [
    "### Lecture 3: Hinge loss, margin boundaries, and regularization\n",
    "- what is hing loss ?\n",
    "    - it is a loss function that penalizes the difference between the prediction and the target use for binary classification.\n",
    "\n",
    "    ![hing loss](./assets/hingel-loss.png)\n",
    "- what is margin boundaries ?\n",
    "    - it is the distance between the prediction and the target.\n",
    "    \n",
    "    ![margin boundaries](./assets/margin_boundaries.png)\n",
    "\n",
    "- what is regularization ?\n",
    "    - Regularization is a technique used to reduce the errors by fitting the function appropriately on the given training set and avoid overfitting.\n",
    "\n",
    "    ![Regularization](./assets/regularization.png)\n",
    "    - The commonly used regularization techniques are :\n",
    "        - L1 regularization.\n",
    "        - L2 regularization.\n",
    "        - Dropout regularization."
   ]
  }
 ],
 "metadata": {
  "interpreter": {
   "hash": "949777d72b0d2535278d3dc13498b2535136f6dfe0678499012e853ee9abcab1"
  },
  "kernelspec": {
   "display_name": "Python 3.9.12 64-bit",
   "language": "python",
   "name": "python3"
  },
  "language_info": {
   "codemirror_mode": {
    "name": "ipython",
    "version": 3
   },
   "file_extension": ".py",
   "mimetype": "text/x-python",
   "name": "python",
   "nbconvert_exporter": "python",
   "pygments_lexer": "ipython3",
   "version": "3.9.12"
  },
  "orig_nbformat": 4
 },
 "nbformat": 4,
 "nbformat_minor": 2
}
