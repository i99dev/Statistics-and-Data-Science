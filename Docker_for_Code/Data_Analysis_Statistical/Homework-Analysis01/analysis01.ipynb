{
 "cells": [
  {
   "cell_type": "code",
   "execution_count": 1,
   "metadata": {},
   "outputs": [],
   "source": [
    "import pandas as pd\n",
    "import numpy as np\n",
    "import glob\n",
    "import zipfile"
   ]
  },
  {
   "cell_type": "code",
   "execution_count": 2,
   "metadata": {},
   "outputs": [],
   "source": [
    "with zipfile.ZipFile(\"release_statsreview_release1.zip\") as zip_file:\n",
    "    golub_data, golub_classnames = ( np.genfromtxt(zip_file.open('data_and_materials/golub_data/{}'.format(fname)), delimiter=',', names=True, converters={0: lambda s: int(s.strip(b'\"'))}) for fname in ['golub.csv', 'golub_cl.csv'] )"
   ]
  },
  {
   "cell_type": "code",
   "execution_count": 3,
   "metadata": {},
   "outputs": [
    {
     "data": {
      "text/html": [
       "<div>\n",
       "<style scoped>\n",
       "    .dataframe tbody tr th:only-of-type {\n",
       "        vertical-align: middle;\n",
       "    }\n",
       "\n",
       "    .dataframe tbody tr th {\n",
       "        vertical-align: top;\n",
       "    }\n",
       "\n",
       "    .dataframe thead th {\n",
       "        text-align: right;\n",
       "    }\n",
       "</style>\n",
       "<table border=\"1\" class=\"dataframe\">\n",
       "  <thead>\n",
       "    <tr style=\"text-align: right;\">\n",
       "      <th></th>\n",
       "      <th>0</th>\n",
       "      <th>1</th>\n",
       "      <th>2</th>\n",
       "      <th>3</th>\n",
       "      <th>4</th>\n",
       "      <th>5</th>\n",
       "      <th>6</th>\n",
       "      <th>7</th>\n",
       "      <th>8</th>\n",
       "      <th>9</th>\n",
       "      <th>...</th>\n",
       "      <th>3041</th>\n",
       "      <th>3042</th>\n",
       "      <th>3043</th>\n",
       "      <th>3044</th>\n",
       "      <th>3045</th>\n",
       "      <th>3046</th>\n",
       "      <th>3047</th>\n",
       "      <th>3048</th>\n",
       "      <th>3049</th>\n",
       "      <th>3050</th>\n",
       "    </tr>\n",
       "  </thead>\n",
       "  <tbody>\n",
       "    <tr>\n",
       "      <th>V1</th>\n",
       "      <td>-1.45769</td>\n",
       "      <td>-0.75161</td>\n",
       "      <td>0.45695</td>\n",
       "      <td>3.13533</td>\n",
       "      <td>2.76569</td>\n",
       "      <td>2.64342</td>\n",
       "      <td>3.16885</td>\n",
       "      <td>2.88860</td>\n",
       "      <td>3.22372</td>\n",
       "      <td>3.22372</td>\n",
       "      <td>...</td>\n",
       "      <td>-0.31273</td>\n",
       "      <td>-0.69342</td>\n",
       "      <td>-0.30476</td>\n",
       "      <td>-0.21661</td>\n",
       "      <td>1.08935</td>\n",
       "      <td>0.04695</td>\n",
       "      <td>-0.20467</td>\n",
       "      <td>0.45231</td>\n",
       "      <td>-0.35920</td>\n",
       "      <td>-0.86079</td>\n",
       "    </tr>\n",
       "    <tr>\n",
       "      <th>V2</th>\n",
       "      <td>-1.39420</td>\n",
       "      <td>-1.26278</td>\n",
       "      <td>-0.09654</td>\n",
       "      <td>0.21415</td>\n",
       "      <td>-1.27045</td>\n",
       "      <td>1.01416</td>\n",
       "      <td>3.09954</td>\n",
       "      <td>2.95355</td>\n",
       "      <td>3.09954</td>\n",
       "      <td>3.09954</td>\n",
       "      <td>...</td>\n",
       "      <td>-0.45147</td>\n",
       "      <td>-0.80743</td>\n",
       "      <td>-0.72056</td>\n",
       "      <td>-0.65287</td>\n",
       "      <td>0.22701</td>\n",
       "      <td>0.48704</td>\n",
       "      <td>-0.07832</td>\n",
       "      <td>0.42686</td>\n",
       "      <td>-0.43633</td>\n",
       "      <td>-1.39420</td>\n",
       "    </tr>\n",
       "    <tr>\n",
       "      <th>V3</th>\n",
       "      <td>-1.42779</td>\n",
       "      <td>-0.09052</td>\n",
       "      <td>0.90325</td>\n",
       "      <td>2.08754</td>\n",
       "      <td>1.60433</td>\n",
       "      <td>1.70477</td>\n",
       "      <td>2.99977</td>\n",
       "      <td>2.99977</td>\n",
       "      <td>2.99977</td>\n",
       "      <td>2.99977</td>\n",
       "      <td>...</td>\n",
       "      <td>-0.76907</td>\n",
       "      <td>-0.51414</td>\n",
       "      <td>-0.11296</td>\n",
       "      <td>0.27332</td>\n",
       "      <td>0.31272</td>\n",
       "      <td>0.72170</td>\n",
       "      <td>-1.00615</td>\n",
       "      <td>0.67579</td>\n",
       "      <td>0.34031</td>\n",
       "      <td>-0.73766</td>\n",
       "    </tr>\n",
       "    <tr>\n",
       "      <th>V4</th>\n",
       "      <td>-1.40715</td>\n",
       "      <td>-0.99596</td>\n",
       "      <td>-0.07194</td>\n",
       "      <td>2.23467</td>\n",
       "      <td>1.53182</td>\n",
       "      <td>1.63845</td>\n",
       "      <td>3.28898</td>\n",
       "      <td>3.03972</td>\n",
       "      <td>3.34097</td>\n",
       "      <td>3.35455</td>\n",
       "      <td>...</td>\n",
       "      <td>-0.03863</td>\n",
       "      <td>-1.17554</td>\n",
       "      <td>-0.25346</td>\n",
       "      <td>-0.35475</td>\n",
       "      <td>0.47450</td>\n",
       "      <td>0.58403</td>\n",
       "      <td>-0.88748</td>\n",
       "      <td>0.31524</td>\n",
       "      <td>-0.90930</td>\n",
       "      <td>-1.19031</td>\n",
       "    </tr>\n",
       "    <tr>\n",
       "      <th>V5</th>\n",
       "      <td>-1.42668</td>\n",
       "      <td>-1.24245</td>\n",
       "      <td>0.03232</td>\n",
       "      <td>0.93811</td>\n",
       "      <td>1.63728</td>\n",
       "      <td>-0.36075</td>\n",
       "      <td>3.19368</td>\n",
       "      <td>3.21721</td>\n",
       "      <td>3.27515</td>\n",
       "      <td>3.27515</td>\n",
       "      <td>...</td>\n",
       "      <td>-0.99706</td>\n",
       "      <td>-1.42668</td>\n",
       "      <td>-0.99706</td>\n",
       "      <td>-0.89248</td>\n",
       "      <td>0.27257</td>\n",
       "      <td>0.30600</td>\n",
       "      <td>0.07175</td>\n",
       "      <td>-0.57779</td>\n",
       "      <td>-0.36663</td>\n",
       "      <td>-1.42668</td>\n",
       "    </tr>\n",
       "  </tbody>\n",
       "</table>\n",
       "<p>5 rows × 3051 columns</p>\n",
       "</div>"
      ],
      "text/plain": [
       "       0        1        2        3        4        5        6        7     \\\n",
       "V1 -1.45769 -0.75161  0.45695  3.13533  2.76569  2.64342  3.16885  2.88860   \n",
       "V2 -1.39420 -1.26278 -0.09654  0.21415 -1.27045  1.01416  3.09954  2.95355   \n",
       "V3 -1.42779 -0.09052  0.90325  2.08754  1.60433  1.70477  2.99977  2.99977   \n",
       "V4 -1.40715 -0.99596 -0.07194  2.23467  1.53182  1.63845  3.28898  3.03972   \n",
       "V5 -1.42668 -1.24245  0.03232  0.93811  1.63728 -0.36075  3.19368  3.21721   \n",
       "\n",
       "       8        9     ...     3041     3042     3043     3044     3045  \\\n",
       "V1  3.22372  3.22372  ... -0.31273 -0.69342 -0.30476 -0.21661  1.08935   \n",
       "V2  3.09954  3.09954  ... -0.45147 -0.80743 -0.72056 -0.65287  0.22701   \n",
       "V3  2.99977  2.99977  ... -0.76907 -0.51414 -0.11296  0.27332  0.31272   \n",
       "V4  3.34097  3.35455  ... -0.03863 -1.17554 -0.25346 -0.35475  0.47450   \n",
       "V5  3.27515  3.27515  ... -0.99706 -1.42668 -0.99706 -0.89248  0.27257   \n",
       "\n",
       "       3046     3047     3048     3049     3050  \n",
       "V1  0.04695 -0.20467  0.45231 -0.35920 -0.86079  \n",
       "V2  0.48704 -0.07832  0.42686 -0.43633 -1.39420  \n",
       "V3  0.72170 -1.00615  0.67579  0.34031 -0.73766  \n",
       "V4  0.58403 -0.88748  0.31524 -0.90930 -1.19031  \n",
       "V5  0.30600  0.07175 -0.57779 -0.36663 -1.42668  \n",
       "\n",
       "[5 rows x 3051 columns]"
      ]
     },
     "execution_count": 3,
     "metadata": {},
     "output_type": "execute_result"
    }
   ],
   "source": [
    "# golub_data\n",
    "# T to transpose data frame\n",
    "data = pd.DataFrame(golub_data).T[1:]\n",
    "classname = pd.DataFrame(golub_classnames).iloc[:,1]\n",
    "data.head()\n"
   ]
  },
  {
   "cell_type": "code",
   "execution_count": 28,
   "metadata": {},
   "outputs": [
    {
     "data": {
      "text/plain": [
       "(38, 3051)"
      ]
     },
     "execution_count": 28,
     "metadata": {},
     "output_type": "execute_result"
    }
   ],
   "source": [
    "data.shape"
   ]
  },
  {
   "cell_type": "code",
   "execution_count": 4,
   "metadata": {},
   "outputs": [],
   "source": [
    "Xs = data.values\n",
    "Ys = classname.values"
   ]
  },
  {
   "cell_type": "code",
   "execution_count": 5,
   "metadata": {},
   "outputs": [],
   "source": [
    "X_all = Xs[0:27,:]\n",
    "X_aml = Xs[27:,:]"
   ]
  },
  {
   "cell_type": "code",
   "execution_count": 27,
   "metadata": {},
   "outputs": [
    {
     "data": {
      "text/plain": [
       "-7.07818930289216e-06"
      ]
     },
     "execution_count": 27,
     "metadata": {},
     "output_type": "execute_result"
    }
   ],
   "source": [
    "# calculate the mean of each column\n",
    "mean_all = np.mean(X_all, axis=0).sum() / X_all.shape[0]\n",
    "mean_aml = np.mean(X_aml, axis=0).sum() / X_aml.shape[0]\n",
    "mean_all"
   ]
  }
 ],
 "metadata": {
  "interpreter": {
   "hash": "949777d72b0d2535278d3dc13498b2535136f6dfe0678499012e853ee9abcab1"
  },
  "kernelspec": {
   "display_name": "Python 3.9.12 64-bit",
   "language": "python",
   "name": "python3"
  },
  "language_info": {
   "codemirror_mode": {
    "name": "ipython",
    "version": 3
   },
   "file_extension": ".py",
   "mimetype": "text/x-python",
   "name": "python",
   "nbconvert_exporter": "python",
   "pygments_lexer": "ipython3",
   "version": "3.9.12"
  },
  "orig_nbformat": 4
 },
 "nbformat": 4,
 "nbformat_minor": 2
}
