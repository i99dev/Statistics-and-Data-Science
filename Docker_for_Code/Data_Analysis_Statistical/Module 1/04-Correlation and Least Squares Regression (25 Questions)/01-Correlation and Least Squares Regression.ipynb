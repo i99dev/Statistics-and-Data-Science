{
 "cells": [
  {
   "cell_type": "markdown",
   "metadata": {},
   "source": [
    "# Correlation and Least Squares Regression.\n",
    "```\n",
    "- In this lecture and series of exercises you will learn:\n",
    "    - The concepts of variance and covariance of data.\n",
    "    - What the correlation coefficient is and how it relates to covariance.\n",
    "    - How linear regression relates to correlation.\n",
    "    - How to transform data with nonlinear relationship so that they may be analyzed with linear regression.\n",
    "    - The extension of linear regression to multiple dimensions.\n",
    "    - Application of the t-test to determine the significance of predictors in a multidimensional linear model.\n",
    "```\n",
    "#### What is your ability after finish this lecture.\n",
    "\n",
    " - Calculate the correlation coefficient for a 2D data set.\n",
    " - Find the least squares solution for a multi-variate linear regression problem.\n",
    " - Apply linear regression to nonlinear relationships through **variable transforms** .\n",
    " - Perform model selection on the predictors using a t-test."
   ]
  },
  {
   "cell_type": "markdown",
   "metadata": {},
   "source": [
    "# Bofre start you need to install the following packages.\n",
    "\n",
    "```\n",
    "\n",
    "As part of this lecture, you will be applying all of the above concepts to analyze real data in the context of astronomy. To do this, you will need a data analysis environment set up.\n",
    "\n",
    "We recommend using Python, with the numpy and scipy packages. The data and solutions will be given in Python using these libraries. However, you are welcome to use any programming language or environment that you wish.\n",
    "\n",
    "You will also be asked to visualize the data. In Python, you can do this with the matplotlib library.\n",
    "\n",
    "For example, a scatter plot can be creating using\n",
    "```py\n",
    "import matplotlib.pyplot as plt # import the library\n",
    "plt.scatter(Xs, Ys) # Create the scatter plot, Xs and Ys are two numpy arrays of the same length\n",
    "plt.show() # Display the plot you just created.\n",
    "# A line plot can be created using\n",
    "\n",
    "plt.plot(Xs, Ys)\n",
    "# This will draw a line through the X, Y pairs defined by the Xs and Ys numpy arrays.\n",
    "\n",
    "# When working with matrices, numpy provides some convenient facilities. For example, to find the inverse of a matrix, use\n",
    "\n",
    "import numpy as np\n",
    "np.linalg.inv(matrix_to_invert)\n",
    "# The scipy package provides statistical distributions. For example, to calculate p-values for the t-distribution, you can use the survival function (sf):\n",
    "\n",
    "import scipy.stats\n",
    "scipy.stats.t.sf(T, num_degrees_of_freedom)\n",
    "```"
   ]
  },
  {
   "cell_type": "markdown",
   "metadata": {},
   "source": [
    "## Correlation. --> `part 2`\n",
    "\n",
    "- what we nee to learn on this unit?\n",
    "    - Build up the concept of correlations from the more basic concepts of variance and covariance of data.\n",
    "    - Apply the concept of correlation to data from astronomy.\n",
    "\n",
    "- what is Covariance(التغاير)?\n",
    "  - Covariance is a measure of the amount of correlation between two variables.\n",
    "  - Conariance Eqution:\n",
    "    - $Cov(X,Y) = \\frac{1}{n-1} \\sum_{i=1}^{n} (X_i - \\overline X)(Y_i - \\overline Y)$\n",
    "    - $ \\overline X = \\frac{1}{n} \\sum_{i=1}^{n} X_i $  -> `mean of X`\n",
    "    - $ \\overline Y = \\frac{1}{n} \\sum_{i=1}^{n} Y_i $  -> `mean of Y`\n",
    "    - X_i is the ith value of X.\n",
    "    - Y_i is the ith value of Y.\n",
    "    - n is the number of values in X and Y.\n",
    "    - $Cov(X,Y)$ is the covariance of X and Y."
   ]
  },
  {
   "cell_type": "code",
   "execution_count": 1,
   "metadata": {},
   "outputs": [
    {
     "data": {
      "image/png": "[encoded data removed]",
      "text/plain": [
       "<Figure size 432x288 with 1 Axes>"
      ]
     },
     "metadata": {
      "needs_background": "light"
     },
     "output_type": "display_data"
    }
   ],
   "source": [
    "import numpy as np\n",
    "import matplotlib.pyplot as plt\n",
    "\n",
    "\n",
    "# Create the data\n",
    "X = np.random.normal(0, 1, 100)\n",
    "Y = np.random.normal(0, 1, 100)\n",
    "\n",
    "\n",
    "# Calculate the covariance\n",
    "Cov = np.cov(X, Y)[0, 1]\n",
    "\n",
    "\n",
    "# Calculate the correlation coefficient\n",
    "Corr = Cov / (np.std(X) * np.std(Y))\n",
    "\n",
    "\n",
    "# Plot the data\n",
    "plt.scatter(X, Y)\n",
    "plt.show()"
   ]
  },
  {
   "cell_type": "markdown",
   "metadata": {},
   "source": [
    "### Some Point about Covariance.\n",
    "- if the mean value  of $\\overline X = sum_{i=1}^{n} X_i / n$ and $\\overline Y = sum_{i=1}^{n} Y_i / n$, to cheange thats we will applying the `Bessel's correction`. \n",
    "\n",
    "    - $Cov(X,Y) = \\frac{1}{n-1} \\sum_{i=1}^{n} (X_i - \\overline X)(Y_i - \\overline Y)$.\n",
    "\n",
    "---\n",
    "- What does covariance demonstrate?\n",
    "    - Covariance measures the direction of the relationship between two variables. A positive covariance means that both variables tend to be high or low at the same time. A negative covariance means that when one variable is high, the other tends to be low.\n",
    "--- \n",
    "- What is covariance and variance?\n",
    "    - Variance and covariance are mathematical terms frequently used in statistics and probability theory. Variance refers to the spread of a data set around its mean value, while a covariance refers to the measure of the directional relationship between two random variables.\n",
    "---\n",
    "- How do you interpret covariance in statistics?\n",
    "    \n",
    "    ![covarinance](./assets/img/covariance.png)"
   ]
  },
  {
   "cell_type": "markdown",
   "metadata": {},
   "source": [
    "___\n",
    "\n",
    "```text\n",
    "In this exercise, we will investigate the correlation present in astronomical data observed by Edwin Hubble in the period surrounding 1930.\n",
    "\n",
    "Hubble was interested in the motion of distant galaxies. He recorded the apparent velocity of these galaxies – the speed at which they appear to be receding away from us – by observing the spectrum of light they emit, and the distortion thereof caused by their relative motion to us. He also determined the distance of these galaxies from our own by observing a certain kind of star known as a Cepheid variable which periodically pulses. The amount of light this kind of star emits is related to this pulsation, and so the distance to any star of this type can be determined by how bright or dim it appears.\n",
    "\n",
    "The following figure shows his data. The Y-axis is the apparent velocity, measured in kilometers per second. Positive velocities are galaxies moving away from us, negative velocities are galaxies that are moving towards us. The Y-axis is the distance of the galaxy from us, measured in mega-parsecs (Mpc); one parsec is 3.26 light-years, or 30.9 trillion kilometers\n",
    "```\n",
    "\n",
    "![Hubble data](./assets/img/images_hubble_regression.png)\n",
    "\n",
    "```"
   ]
  },
  {
   "cell_type": "code",
   "execution_count": 2,
   "metadata": {},
   "outputs": [],
   "source": [
    "import matplotlib.pyplot as plt\n",
    "import scipy.stats as stats\n",
    "import numpy as np"
   ]
  },
  {
   "cell_type": "code",
   "execution_count": 5,
   "metadata": {},
   "outputs": [],
   "source": [
    "# Hubble Dataset\n",
    "\n",
    "Xs = np.array([0.0339, 0.0423, 0.213, 0.257, 0.273, 0.273, 0.450, 0.503, 0.503, \\\n",
    "0.637, 0.805, 0.904, 0.904, 0.910, 0.910, 1.02, 1.11, 1.11, 1.41, \\\n",
    "1.72, 2.03, 2.02, 2.02, 2.02])\n",
    "\n",
    "Ys = np.array([-19.3, 30.4, 38.7, 5.52, -33.1, -77.3, 398.0, 406.0, 436.0, 320.0, 373.0, \\\n",
    "93.9, 210.0, 423.0, 594.0, 829.0, 718.0, 561.0, 608.0, 1.04E3, 1.10E3, \\\n",
    "840.0, 801.0, 519.0])\n",
    "\n",
    "N = 24"
   ]
  },
  {
   "cell_type": "markdown",
   "metadata": {},
   "source": [
    "#### Mean for dataset.\n",
    "\n",
    "- why we need to calculate the mean of the dataset?\n",
    "    - to calculate the covariance.\n",
    "    - to calculate the correlation coefficient."
   ]
  },
  {
   "cell_type": "code",
   "execution_count": 9,
   "metadata": {},
   "outputs": [
    {
     "name": "stdout",
     "output_type": "stream",
     "text": [
      "mu_X =  0.9199250000000001\n",
      "mu_Y =  425.6175\n"
     ]
    }
   ],
   "source": [
    "# mean for Xs and Ys\n",
    "mu_X = np.mean(Xs)  #Or Xs.sum()/N\n",
    "mu_Y = np.mean(Ys)  #Or Ys.sum()/N\n",
    "print(\"mu_X = \", mu_X)\n",
    "print(\"mu_Y = \", mu_Y)"
   ]
  },
  {
   "cell_type": "markdown",
   "metadata": {},
   "source": [
    "#### Standard deviation for dataset.\n",
    "\n",
    "- why we need to calculate the standard deviation of the dataset?\n",
    "    - to calculate the correlation coefficient.\n",
    "- how many equations we need to calculate the standard deviation of the dataset?\n",
    "    - 2 equations.\n",
    "- what is two equations?\n",
    "    - $ \\sigma_X = \\sqrt{\\frac{1}{n-1} \\sum_{i=1}^{n} (X_i - \\overline X)^2} $\n",
    "    - $ \\sigma_Y = \\sqrt{\\frac{1}{n-1} \\sum_{i=1}^{n} (Y_i - \\overline Y)^2} $\n"
   ]
  },
  {
   "cell_type": "code",
   "execution_count": 15,
   "metadata": {},
   "outputs": [
    {
     "name": "stdout",
     "output_type": "stream",
     "text": [
      "sigma_X =  0.6533948258734996\n",
      "sigma_Y =  348.7336574977229\n"
     ]
    }
   ],
   "source": [
    "# standard deviation for Xs and Ys\n",
    "sigma_X = np.sqrt(np.sum((Xs - mu_X)**2)/(N-1))\n",
    "sigma_Y = np.sqrt(np.sum((Ys - mu_Y)**2)/(N-1))\n",
    "print(\"sigma_X = \", sigma_X)\n",
    "print(\"sigma_Y = \", sigma_Y)"
   ]
  },
  {
   "cell_type": "markdown",
   "metadata": {},
   "source": [
    "#### let us now calculate the convariance of the dataset.\n",
    "\n",
    "we will use this equation:\n",
    "\n",
    "$ Cov(X,Y) = \\frac{1}{n-1} \\sum_{i=1}^{n} (X_i - \\overline X)(Y_i - \\overline Y)$\n",
    "\n",
    "- $\\sum_{i=1}^{n}(X_i - \\overline X)$.\n",
    "- $\\sum_{i=1}^{n}(Y_i - \\overline Y)$.\n",
    "- $n$ is the number of values in X and Y.\n",
    "- $n-1$ is the number of values in X and Y minus 1.\n",
    "- $X_i$ is the ith value of X.\n",
    "- $Y_i$ is the ith value of Y.\n",
    "- $\\overline X$ is the mean of X.\n",
    "- $\\overline Y$ is the mean of Y."
   ]
  },
  {
   "cell_type": "code",
   "execution_count": 16,
   "metadata": {},
   "outputs": [
    {
     "name": "stdout",
     "output_type": "stream",
     "text": [
      "covariance = 191.20706528260868\n"
     ]
    }
   ],
   "source": [
    "# Now, calculate the sample covariance for the Hubble dataset to three significant figures:\n",
    "covariance = ((Xs - mu_X) * (Ys - mu_Y)).sum() / (N - 1)\n",
    "print(\"covariance =\", covariance)\n"
   ]
  },
  {
   "cell_type": "markdown",
   "metadata": {},
   "source": [
    "## The Correlation Coefficient --> `part 3`\n",
    "\n",
    "- what is differnt between correlation coefficient and covariance?\n",
    "    - correlation coefficient is a measure of the strength of the linear relationship between two variables.\n",
    "    - covariance is a measure of the amount of correlation between two variables.\n",
    "- if X and Y are positively correlated, the correlation coefficient is positive.\n",
    "- if X and Y are negatively correlated, the correlation coefficient is negative.\n",
    "- if X and Y are independent, the correlation coefficient is zero.\n",
    "- if X and Y are correlation coefficient is zero when X and Y are uncorrelated(remember that this dose mean that the two variables are independent).\n",
    "- Correlation don't take any units.\n",
    "    - exmaple on Hubble dataset correlation coefficient is 0.9 with out unit."
   ]
  },
  {
   "cell_type": "code",
   "execution_count": 17,
   "metadata": {},
   "outputs": [
    {
     "name": "stdout",
     "output_type": "stream",
     "text": [
      "Corr = 0.8391399162310663\n"
     ]
    }
   ],
   "source": [
    "# Calculate the correlation coefficient\n",
    "Corr = covariance / (sigma_X * sigma_Y)\n",
    "print(\"Corr =\", Corr)"
   ]
  },
  {
   "cell_type": "markdown",
   "metadata": {},
   "source": [
    "### Quadratics.\n",
    "\n",
    "- what is a quadratic?\n",
    "    - a quadratic is a function of the form $f(x) = ax^2 + bx + c$.\n",
    "        - $f(x)$ is the function.\n",
    "        - $a$ is the coefficient of the quadratic.\n",
    "        - $b$ is the coefficient of the linear term.\n",
    "        - $c$ is the constant term.\n",
    "- what is the quadratic formula?\n",
    "    - the quadratic formula is a way of finding the roots of a quadratic equation.\n",
    "    - the quadratic formula is $x = \\frac{-b \\pm \\sqrt{b^2 - 4ac}}{2a}$\n",
    "    - $b^2 - 4ac$ is the discriminant.\n",
    "    - $b$ is the coefficient of the linear term.\n",
    "    - $a$ is the coefficient of the quadratic term.\n",
    "    - $c$ is the constant term."
   ]
  },
  {
   "cell_type": "markdown",
   "metadata": {},
   "source": [
    "## How to construct a linear predictive model\n",
    "- simple linear regression equation:\n",
    "    - $y = \\beta_0 + \\beta_1 x$.\n",
    "        - $y$ is the dependent variable.\n",
    "        - $x$ is the independent variable.\n",
    "        - $\\beta_0$ is the intercept.\n",
    "        - $\\beta_1$ is the slope.\n",
    "    - slop equation:\n",
    "        - $\\beta_1 = \\frac{\\sum_{i=1}^n (x_i - \\bar{x}) (y_i - \\bar{y})}{\\sum_{i=1}^n (x_i - \\bar{x})^2}$.\n",
    "    - intercept equation:\n",
    "        - $\\beta_0 = \\bar{y} - \\beta_1 \\bar{x}$."
   ]
  },
  {
   "cell_type": "markdown",
   "metadata": {},
   "source": [
    "## Goodness fit metric  (R-squared)\n",
    "is a measure of how well a regression model fits the data.\n",
    "\n",
    "$R^2$ = 1- $\\frac{SS_{res}}{SS_{tot}}$\n",
    "\n",
    "- $R^2$ is a statistical measure that represents the proportion of the variance for a dependent variable that's explained by an independent variable or variables in a regression model. the independent variable.\n",
    "\n",
    "- $SS_{res}$ is the sum of the squared residuals.\n",
    "    - $SS_{res} = \\sum_{i=1}^{n} (y_i - \\hat{y}_i)^2$\n",
    "        -   $y_i$ is the actual value of the dependent variable.\n",
    "        -   $\\hat{y}_i$ is the predicted value of the dependent variable.\n",
    "\n",
    "- $SS_{tot}$ is the sum of the squared total.\n",
    "    - $SS_{tot} = \\sum_{i=1}^{n} (y_i - \\overline{y})^2$\n",
    "        - $\\overline{y}$ is the mean of the dependent variable.\n",
    "        - $y_i$ is the actual value of the dependent variable.\n",
    "\n",
    "#### What does R-squared tell us in regression?\n",
    "R-squared is a goodness-of-fit measure for linear regression models. This statistic indicates the percentage of the variance in the dependent variable that the independent variables explain collectively.\n",
    "\n",
    "#### Is a higher R-squared better?\n",
    "In general, the higher the R-squared, the better the model fits your data.\n",
    "\n",
    "#### when use R-squared to evaluate a model?\n",
    "R-squared measures the strength of the relationship between your model and the dependent variable on a convenient 0 – 100% scale. After fitting a linear regression model, you need to determine how well the model fits the data.\n",
    "\n",
    "\n",
    "\n",
    "\n"
   ]
  },
  {
   "cell_type": "code",
   "execution_count": 31,
   "metadata": {},
   "outputs": [],
   "source": [
    "# goodness of fit metric (R-squared)\n",
    "def r_squared(xs, ys):\n",
    "    mean = np.mean(ys)\n",
    "    ss_tot = sum((ys - mean) ** 2)\n",
    "    ss_res = sum((ys - xs) ** 2)\n",
    "    r_squared = 1 - (ss_res / ss_tot)\n",
    "    return r_squared"
   ]
  },
  {
   "cell_type": "code",
   "execution_count": 33,
   "metadata": {},
   "outputs": [],
   "source": [
    "# line reqgression model for the Hubble dataset\n",
    "def line_regression(xs, ys):\n",
    "    slope = covariance / (sigma_X * sigma_Y)\n",
    "    intercept = mu_Y - slope * mu_X\n",
    "    return slope, intercept"
   ]
  },
  {
   "cell_type": "code",
   "execution_count": 35,
   "metadata": {},
   "outputs": [
    {
     "name": "stdout",
     "output_type": "stream",
     "text": [
      "slope = 0.8391399162310663\n",
      "intercept = 424.8455542125611\n"
     ]
    }
   ],
   "source": [
    "slope , intercept = line_regression(Xs, Ys)\n",
    "print(\"slope =\", slope)\n",
    "print(\"intercept =\", intercept)"
   ]
  },
  {
   "cell_type": "code",
   "execution_count": 36,
   "metadata": {},
   "outputs": [],
   "source": [
    "# use some hubble data to test the line regression model\n",
    "Xs_test = np.array([0.0339, 0.0423, 0.213, 0.257, 0.273, 0.273, 0.450, 0.503, 0.503, \\\n",
    "0.637, 0.805, 0.904, 0.904, 0.910, 0.910, 1.02, 1.11, 1.11, 1.41, \\\n",
    "1.72, 2.03, 2.02, 2.02, 2.02])\n",
    "Ys_test = np.array([-19.3, 30.4, 38.7, 5.52, -33.1, -77.3, 398.0, 406.0, 436.0, 320.0, 373.0, \\\n",
    "93.9, 210.0, 423.0, 594.0, 829.0, 718.0, 561.0, 608.0, 1.04E3, 1.10E3, \\\n",
    "840.0, 801.0, 519.0])"
   ]
  },
  {
   "cell_type": "code",
   "execution_count": 37,
   "metadata": {},
   "outputs": [
    {
     "name": "stdout",
     "output_type": "stream",
     "text": [
      "Ys_pred = [424.87400106 424.88104983 425.02429101 425.06121317 425.07463941\n",
      " 425.07463941 425.22316717 425.26764159 425.26764159 425.38008634\n",
      " 425.52106185 425.6041367  425.6041367  425.60917154 425.60917154\n",
      " 425.70147693 425.77699952 425.77699952 426.02874149 426.28887487\n",
      " 426.54900824 426.54061684 426.54061684 426.54061684]\n"
     ]
    }
   ],
   "source": [
    "# predict the Hubble data using the line regression model\n",
    "Ys_pred = intercept + slope * Xs_test\n",
    "print(\"Ys_pred =\", Ys_pred)"
   ]
  },
  {
   "cell_type": "code",
   "execution_count": 38,
   "metadata": {},
   "outputs": [
    {
     "name": "stdout",
     "output_type": "stream",
     "text": [
      "sum_of_squared_residuals = 2789775.007231944\n"
     ]
    }
   ],
   "source": [
    "sum_of_squared_residuals = sum((Ys_test - Ys_pred) ** 2)\n",
    "print(\"sum_of_squared_residuals =\", sum_of_squared_residuals)"
   ]
  },
  {
   "cell_type": "code",
   "execution_count": 39,
   "metadata": {},
   "outputs": [
    {
     "name": "stdout",
     "output_type": "stream",
     "text": [
      "sum_of_squared_total = 2797148.76905\n"
     ]
    }
   ],
   "source": [
    "sum_of_squared_total = sum((Ys_test - np.mean(Ys_test)) ** 2)\n",
    "print(\"sum_of_squared_total =\", sum_of_squared_total)"
   ]
  },
  {
   "cell_type": "code",
   "execution_count": 40,
   "metadata": {},
   "outputs": [
    {
     "name": "stdout",
     "output_type": "stream",
     "text": [
      "r2 = 0.0026361707677637902\n"
     ]
    }
   ],
   "source": [
    "r2 = 1 - (sum_of_squared_residuals / sum_of_squared_total)\n",
    "print(\"r2 =\", r2)"
   ]
  }
 ],
 "metadata": {
  "interpreter": {
   "hash": "949777d72b0d2535278d3dc13498b2535136f6dfe0678499012e853ee9abcab1"
  },
  "kernelspec": {
   "display_name": "Python 3.9.12 64-bit",
   "language": "python",
   "name": "python3"
  },
  "language_info": {
   "codemirror_mode": {
    "name": "ipython",
    "version": 3
   },
   "file_extension": ".py",
   "mimetype": "text/x-python",
   "name": "python",
   "nbconvert_exporter": "python",
   "pygments_lexer": "ipython3",
   "version": "3.9.12"
  },
  "orig_nbformat": 4
 },
 "nbformat": 4,
 "nbformat_minor": 2
}
