{
 "cells": [
  {
   "cell_type": "markdown",
   "metadata": {},
   "source": [
    "# Correlation and Least Squares Regression.\n",
    "```\n",
    "- In this lecture and series of exercises you will learn:\n",
    "    - The concepts of variance and covariance of data.\n",
    "    - What the correlation coefficient is and how it relates to covariance.\n",
    "    - How linear regression relates to correlation.\n",
    "    - How to transform data with nonlinear relationship so that they may be analyzed with linear regression.\n",
    "    - The extension of linear regression to multiple dimensions.\n",
    "    - Application of the t-test to determine the significance of predictors in a multidimensional linear model.\n",
    "```\n",
    "#### What is your ability after finish this lecture.\n",
    "\n",
    " - Calculate the correlation coefficient for a 2D data set.\n",
    " - Find the least squares solution for a multi-variate linear regression problem.\n",
    " - Apply linear regression to nonlinear relationships through **variable transforms** .\n",
    " - Perform model selection on the predictors using a t-test."
   ]
  },
  {
   "cell_type": "markdown",
   "metadata": {},
   "source": [
    "# Bofre start you need to install the following packages.\n",
    "\n",
    "```\n",
    "\n",
    "As part of this lecture, you will be applying all of the above concepts to analyze real data in the context of astronomy. To do this, you will need a data analysis environment set up.\n",
    "\n",
    "We recommend using Python, with the numpy and scipy packages. The data and solutions will be given in Python using these libraries. However, you are welcome to use any programming language or environment that you wish.\n",
    "\n",
    "You will also be asked to visualize the data. In Python, you can do this with the matplotlib library.\n",
    "\n",
    "For example, a scatter plot can be creating using\n",
    "```py\n",
    "import matplotlib.pyplot as plt # import the library\n",
    "plt.scatter(Xs, Ys) # Create the scatter plot, Xs and Ys are two numpy arrays of the same length\n",
    "plt.show() # Display the plot you just created.\n",
    "# A line plot can be created using\n",
    "\n",
    "plt.plot(Xs, Ys)\n",
    "# This will draw a line through the X, Y pairs defined by the Xs and Ys numpy arrays.\n",
    "\n",
    "# When working with matrices, numpy provides some convenient facilities. For example, to find the inverse of a matrix, use\n",
    "\n",
    "import numpy as np\n",
    "np.linalg.inv(matrix_to_invert)\n",
    "# The scipy package provides statistical distributions. For example, to calculate p-values for the t-distribution, you can use the survival function (sf):\n",
    "\n",
    "import scipy.stats\n",
    "scipy.stats.t.sf(T, num_degrees_of_freedom)\n",
    "```"
   ]
  },
  {
   "cell_type": "markdown",
   "metadata": {},
   "source": [
    "## Correlation. --> `part 2`\n",
    "\n",
    "- what we nee to learn on this unit?\n",
    "    - Build up the concept of correlations from the more basic concepts of variance and covariance of data.\n",
    "    - Apply the concept of correlation to data from astronomy.\n",
    "\n",
    "- what is Covariance(التغاير)?\n",
    "  - Covariance is a measure of the amount of correlation between two variables.\n",
    "  - Conariance Eqution:\n",
    "    - $Cov(X,Y) = \\frac{1}{n-1} \\sum_{i=1}^{n} (X_i - \\overline X)(Y_i - \\overline Y)$\n",
    "    - $ \\overline X = \\frac{1}{n} \\sum_{i=1}^{n} X_i $  -> `mean of X`\n",
    "    - $ \\overline Y = \\frac{1}{n} \\sum_{i=1}^{n} Y_i $  -> `mean of Y`\n",
    "    - X_i is the ith value of X.\n",
    "    - Y_i is the ith value of Y.\n",
    "    - n is the number of values in X and Y.\n",
    "    - $Cov(X,Y)$ is the covariance of X and Y."
   ]
  },
  {
   "cell_type": "code",
   "execution_count": 71,
   "metadata": {},
   "outputs": [
    {
     "data": {
      "image/png": "[encoded data removed]",
      "text/plain": [
       "<Figure size 432x288 with 1 Axes>"
      ]
     },
     "metadata": {
      "needs_background": "light"
     },
     "output_type": "display_data"
    }
   ],
   "source": [
    "import numpy as np\n",
    "import matplotlib.pyplot as plt\n",
    "\n",
    "\n",
    "# Create the data\n",
    "X = np.random.normal(0, 1, 100)\n",
    "Y = np.random.normal(0, 1, 100)\n",
    "\n",
    "\n",
    "# Calculate the covariance\n",
    "Cov = np.cov(X, Y)[0, 1]\n",
    "\n",
    "\n",
    "# Calculate the correlation coefficient\n",
    "Corr = Cov / (np.std(X) * np.std(Y))\n",
    "\n",
    "\n",
    "# Plot the data\n",
    "plt.scatter(X, Y)\n",
    "plt.show()"
   ]
  },
  {
   "cell_type": "markdown",
   "metadata": {},
   "source": [
    "### Some Point about Covariance.\n",
    "- if the mean value  of $\\overline X = sum_{i=1}^{n} X_i / n$ and $\\overline Y = sum_{i=1}^{n} Y_i / n$, to cheange thats we will applying the `Bessel's correction`. \n",
    "\n",
    "    - $Cov(X,Y) = \\frac{1}{n-1} \\sum_{i=1}^{n} (X_i - \\overline X)(Y_i - \\overline Y)$.\n",
    "\n",
    "---\n",
    "- What does covariance demonstrate?\n",
    "    - Covariance measures the direction of the relationship between two variables. A positive covariance means that both variables tend to be high or low at the same time. A negative covariance means that when one variable is high, the other tends to be low.\n",
    "--- \n",
    "- What is covariance and variance?\n",
    "    - Variance and covariance are mathematical terms frequently used in statistics and probability theory. Variance refers to the spread of a data set around its mean value, while a covariance refers to the measure of the directional relationship between two random variables.\n",
    "---\n",
    "- How do you interpret covariance in statistics?\n",
    "    \n",
    "    ![covarinance](./assets/img/covariance.png)"
   ]
  },
  {
   "cell_type": "markdown",
   "metadata": {},
   "source": [
    "___\n",
    "\n",
    "```text\n",
    "In this exercise, we will investigate the correlation present in astronomical data observed by Edwin Hubble in the period surrounding 1930.\n",
    "\n",
    "Hubble was interested in the motion of distant galaxies. He recorded the apparent velocity of these galaxies – the speed at which they appear to be receding away from us – by observing the spectrum of light they emit, and the distortion thereof caused by their relative motion to us. He also determined the distance of these galaxies from our own by observing a certain kind of star known as a Cepheid variable which periodically pulses. The amount of light this kind of star emits is related to this pulsation, and so the distance to any star of this type can be determined by how bright or dim it appears.\n",
    "\n",
    "The following figure shows his data. The Y-axis is the apparent velocity, measured in kilometers per second. Positive velocities are galaxies moving away from us, negative velocities are galaxies that are moving towards us. The Y-axis is the distance of the galaxy from us, measured in mega-parsecs (Mpc); one parsec is 3.26 light-years, or 30.9 trillion kilometers\n",
    "```\n",
    "\n",
    "![Hubble data](./assets/img/images_hubble_regression.png)\n",
    "\n",
    "```"
   ]
  },
  {
   "cell_type": "code",
   "execution_count": 72,
   "metadata": {},
   "outputs": [],
   "source": [
    "import matplotlib.pyplot as plt\n",
    "import scipy.stats as stats\n",
    "import numpy as np"
   ]
  },
  {
   "cell_type": "code",
   "execution_count": 73,
   "metadata": {},
   "outputs": [],
   "source": [
    "# Hubble Dataset\n",
    "\n",
    "Xs = np.array([0.0339, 0.0423, 0.213, 0.257, 0.273, 0.273, 0.450, 0.503, 0.503, \\\n",
    "0.637, 0.805, 0.904, 0.904, 0.910, 0.910, 1.02, 1.11, 1.11, 1.41, \\\n",
    "1.72, 2.03, 2.02, 2.02, 2.02])\n",
    "\n",
    "Ys = np.array([-19.3, 30.4, 38.7, 5.52, -33.1, -77.3, 398.0, 406.0, 436.0, 320.0, 373.0, \\\n",
    "93.9, 210.0, 423.0, 594.0, 829.0, 718.0, 561.0, 608.0, 1.04E3, 1.10E3, \\\n",
    "840.0, 801.0, 519.0])\n",
    "\n",
    "N = 24"
   ]
  },
  {
   "cell_type": "markdown",
   "metadata": {},
   "source": [
    "#### Mean for dataset.\n",
    "\n",
    "- why we need to calculate the mean of the dataset?\n",
    "    - to calculate the covariance.\n",
    "    - to calculate the correlation coefficient."
   ]
  },
  {
   "cell_type": "code",
   "execution_count": 74,
   "metadata": {},
   "outputs": [
    {
     "name": "stdout",
     "output_type": "stream",
     "text": [
      "mu_X =  0.9199250000000001\n",
      "mu_Y =  425.6175\n"
     ]
    }
   ],
   "source": [
    "# mean for Xs and Ys\n",
    "mu_X = np.mean(Xs)  #Or Xs.sum()/N\n",
    "mu_Y = np.mean(Ys)  #Or Ys.sum()/N\n",
    "print(\"mu_X = \", mu_X)\n",
    "print(\"mu_Y = \", mu_Y)"
   ]
  },
  {
   "cell_type": "markdown",
   "metadata": {},
   "source": [
    "#### Standard deviation for dataset.\n",
    "\n",
    "- why we need to calculate the standard deviation of the dataset?\n",
    "    - to calculate the correlation coefficient.\n",
    "- how many equations we need to calculate the standard deviation of the dataset?\n",
    "    - 2 equations.\n",
    "- what is two equations?\n",
    "    - $ \\sigma_X = \\sqrt{\\frac{1}{n-1} \\sum_{i=1}^{n} (X_i - \\overline X)^2} $\n",
    "    - $ \\sigma_Y = \\sqrt{\\frac{1}{n-1} \\sum_{i=1}^{n} (Y_i - \\overline Y)^2} $\n"
   ]
  },
  {
   "cell_type": "code",
   "execution_count": 75,
   "metadata": {},
   "outputs": [
    {
     "name": "stdout",
     "output_type": "stream",
     "text": [
      "sigma_X =  0.6533948258734996\n",
      "sigma_Y =  348.7336574977229\n"
     ]
    }
   ],
   "source": [
    "# standard deviation for Xs and Ys\n",
    "sigma_X = np.sqrt(np.sum((Xs - mu_X)**2)/(N-1))\n",
    "sigma_Y = np.sqrt(np.sum((Ys - mu_Y)**2)/(N-1))\n",
    "print(\"sigma_X = \", sigma_X)\n",
    "print(\"sigma_Y = \", sigma_Y)"
   ]
  },
  {
   "cell_type": "markdown",
   "metadata": {},
   "source": [
    "#### let us now calculate the convariance of the dataset.\n",
    "\n",
    "we will use this equation:\n",
    "\n",
    "$ Cov(X,Y) = \\frac{1}{n-1} \\sum_{i=1}^{n} (X_i - \\overline X)(Y_i - \\overline Y)$\n",
    "\n",
    "- $\\sum_{i=1}^{n}(X_i - \\overline X)$.\n",
    "- $\\sum_{i=1}^{n}(Y_i - \\overline Y)$.\n",
    "- $n$ is the number of values in X and Y.\n",
    "- $n-1$ is the number of values in X and Y minus 1.\n",
    "- $X_i$ is the ith value of X.\n",
    "- $Y_i$ is the ith value of Y.\n",
    "- $\\overline X$ is the mean of X.\n",
    "- $\\overline Y$ is the mean of Y."
   ]
  },
  {
   "cell_type": "code",
   "execution_count": 76,
   "metadata": {},
   "outputs": [
    {
     "name": "stdout",
     "output_type": "stream",
     "text": [
      "covariance = 191.20706528260868\n"
     ]
    }
   ],
   "source": [
    "# Now, calculate the sample covariance for the Hubble dataset to three significant figures:\n",
    "covariance = ((Xs - mu_X) * (Ys - mu_Y)).sum() / (N - 1)\n",
    "print(\"covariance =\", covariance)\n"
   ]
  },
  {
   "cell_type": "markdown",
   "metadata": {},
   "source": [
    "## The Correlation Coefficient --> `part 3`\n",
    "\n",
    "- what is differnt between correlation coefficient and covariance?\n",
    "    - correlation coefficient is a measure of the strength of the linear relationship between two variables.\n",
    "    - covariance is a measure of the amount of correlation between two variables.\n",
    "- if X and Y are positively correlated, the correlation coefficient is positive.\n",
    "- if X and Y are negatively correlated, the correlation coefficient is negative.\n",
    "- if X and Y are independent, the correlation coefficient is zero.\n",
    "- if X and Y are correlation coefficient is zero when X and Y are uncorrelated(remember that this dose mean that the two variables are independent).\n",
    "- Correlation don't take any units.\n",
    "    - exmaple on Hubble dataset correlation coefficient is 0.9 with out unit."
   ]
  },
  {
   "cell_type": "code",
   "execution_count": 77,
   "metadata": {},
   "outputs": [
    {
     "name": "stdout",
     "output_type": "stream",
     "text": [
      "Corr = 0.8391399162310663\n"
     ]
    }
   ],
   "source": [
    "# Calculate the correlation coefficient\n",
    "Corr = covariance / (sigma_X * sigma_Y)\n",
    "print(\"Corr =\", Corr)"
   ]
  },
  {
   "cell_type": "markdown",
   "metadata": {},
   "source": [
    "### Quadratics.\n",
    "\n",
    "- Quadratics vs Linear vs Exponential.\n",
    "    - Quadratics are the simplest form of regression.\n",
    "    - Linear regression is the simplest form of regression.\n",
    "    - Exponential regression is the simplest form of regression.\n",
    "\n",
    "    ![Grap](./assets/img/linear-quadratic-exponential.jpg)\n",
    "\n",
    "\n",
    "- what is a quadratic?\n",
    "    - a quadratic is a function of the form $f(x) = ax^2 + bx + c$.\n",
    "        - $f(x)$ is the function.\n",
    "        - $a$ is the coefficient of the quadratic.\n",
    "            - $a = \\frac{1}{2} \\sum_{i=1}^{n} (x_i - \\overline X)^2$\n",
    "        - $b$ is the coefficient of the linear term.\n",
    "            - $b = \\frac{1}{n} \\sum_{i=1}^{n} (x_i - \\overline X)$\n",
    "        - $c$ is the constant term.\n",
    "            - $c = \\overline Y - \\overline X$\n",
    "- what is the quadratic formula?\n",
    "    - the quadratic formula is a way of finding the roots of a quadratic equation.\n",
    "    - the quadratic formula is $x = \\frac{-b \\pm \\sqrt{b^2 - 4ac}}{2a}$\n",
    "    - $b^2 - 4ac$ is the discriminant.\n",
    "    - $b$ is the coefficient of the linear term.\n",
    "    - $a$ is the coefficient of the quadratic term.\n",
    "    - $c$ is the constant term.\n",
    "___\n",
    "- Quadratic relation between X and Y.\n",
    "    - $y = a x^2 + b x + c$\n",
    "    - $a = \\frac{1}{2} \\sum_{i=1}^{n} (x_i - \\overline X)^2$\n",
    "    - $b = \\frac{1}{n} \\sum_{i=1}^{n} (x_i - \\overline X)$\n",
    "    - $c = \\overline Y - \\overline X$\n",
    "- suppose $Y =X^2$. what is the correlation between random variables X and Y ?\n",
    "\n",
    "```text\n",
    "A may seems very tempting. \"Correlation only measures variables' relations up to linear relations\" is conceptually correct, but we need to be careful with what it actually means. A seemingly purely nonlinear relation can have \"linear parts\", depending on how X is distributed. Let's first see two examples.\n",
    "```\n",
    "Exmaple One:\n",
    "\n",
    "$ X= 0$ with probability 0.5 and $X = 2$ otherwise.\n",
    "\n",
    "step 1:\n",
    "Than $Cov(X,Y) = E(XY) - E(X)E(Y) = 4 - (1 * 2) = 2$\n",
    "\n",
    "step2: \n",
    "$Correlation(X,Y) = Cov(X,Y) / (std(X) * std(Y)) = 2 / (1 * 2) = 1$\n",
    "Or \n",
    "$Correlation(X,Y) = Cov(X,Y) / \\sqrt{Var(X) Var(Y)} = 2 / \\sqrt{1 * 2} = 1$\n",
    "\n",
    "```\n",
    "\n",
    "```\n",
    "___\n"
   ]
  },
  {
   "cell_type": "code",
   "execution_count": 78,
   "metadata": {},
   "outputs": [
    {
     "name": "stdout",
     "output_type": "stream",
     "text": [
      " real and different roots \n",
      "2.0\n",
      "-12.0\n"
     ]
    }
   ],
   "source": [
    "import math\n",
    "\n",
    "def equationroots( a, b, c): \n",
    "  \n",
    "    # calculating discriminant using formula\n",
    "    dis = b * b - 4 * a * c \n",
    "    sqrt_val = math.sqrt(abs(dis)) \n",
    "      \n",
    "    # checking condition for discriminant\n",
    "    if dis > 0: \n",
    "        print(\" real and different roots \") \n",
    "        print((-b + sqrt_val)/(2 * a)) \n",
    "        print((-b - sqrt_val)/(2 * a)) \n",
    "      \n",
    "    elif dis == 0: \n",
    "        print(\" real and same roots\") \n",
    "        print(-b / (2 * a)) \n",
    "      \n",
    "    # when discriminant is less than 0\n",
    "    else:\n",
    "        print(\"Complex Roots\") \n",
    "        print(- b / (2 * a), \" + i\", sqrt_val) \n",
    "        print(- b / (2 * a), \" - i\", sqrt_val) \n",
    "  \n",
    "# Driver Program \n",
    "a = 1\n",
    "b = 10\n",
    "c = -24\n",
    "  \n",
    "# If a is 0, then incorrect equation\n",
    "if a == 0: \n",
    "        print(\"Input correct quadratic equation\") \n",
    "  \n",
    "else:\n",
    "    equationroots(a, b, c)"
   ]
  },
  {
   "cell_type": "markdown",
   "metadata": {},
   "source": [
    "______"
   ]
  },
  {
   "cell_type": "markdown",
   "metadata": {},
   "source": [
    "## Regression `part 4`\n",
    "\n"
   ]
  },
  {
   "cell_type": "markdown",
   "metadata": {},
   "source": [
    "## How to construct a linear predictive model `Part 4`\n",
    "- simple linear regression equation:\n",
    "    - $y = \\beta_0 + \\beta_1 x$.\n",
    "        - $y$ is the dependent variable.\n",
    "        - $x$ is the independent variable.\n",
    "        - $\\beta_0$ is the intercept.\n",
    "        - $\\beta_1$ is the slope.\n",
    "    - slop equation:\n",
    "        - $\\beta_1 = \\frac{\\sum_{i=1}^n (x_i - \\bar{x}) (y_i - \\bar{y})}{\\sum_{i=1}^n (x_i - \\bar{x})^2}$.\n",
    "    - intercept equation:\n",
    "        - $\\beta_0 = \\bar{y} - \\beta_1 \\bar{x}$."
   ]
  },
  {
   "cell_type": "markdown",
   "metadata": {},
   "source": [
    "### Goodness fit metric  (R-squared)\n",
    "is a measure of how well a regression model fits the data.\n",
    "\n",
    "$R^2$ = 1- $\\frac{SS_{res}}{SS_{tot}}$\n",
    "\n",
    "- $R^2$ is a statistical measure that represents the proportion of the variance for a dependent variable that's explained by an independent variable or variables in a regression model. the independent variable.\n",
    "\n",
    "- $SS_{res}$ is the sum of the squared residuals.\n",
    "    - $SS_{res} = \\sum_{i=1}^{n} (y_i - \\hat{y}_i)^2$\n",
    "        -   $y_i$ is the actual value of the dependent variable.\n",
    "        -   $\\hat{y}_i$ is the predicted value of the dependent variable.\n",
    "\n",
    "- $SS_{tot}$ is the sum of the squared total.\n",
    "    - $SS_{tot} = \\sum_{i=1}^{n} (y_i - \\overline{y})^2$\n",
    "        - $\\overline{y}$ is the mean of the dependent variable.\n",
    "        - $y_i$ is the actual value of the dependent variable.\n",
    "\n",
    "#### What does R-squared tell us in regression?\n",
    "R-squared is a goodness-of-fit measure for linear regression models. This statistic indicates the percentage of the variance in the dependent variable that the independent variables explain collectively.\n",
    "\n",
    "#### Is a higher R-squared better?\n",
    "In general, the higher the R-squared, the better the model fits your data.\n",
    "\n",
    "#### when use R-squared to evaluate a model?\n",
    "R-squared measures the strength of the relationship between your model and the dependent variable on a convenient 0 – 100% scale. After fitting a linear regression model, you need to determine how well the model fits the data.\n",
    "\n",
    "\n",
    "\n",
    "\n"
   ]
  },
  {
   "cell_type": "code",
   "execution_count": 79,
   "metadata": {},
   "outputs": [],
   "source": [
    "# goodness of fit metric (R-squared)\n",
    "def r_squared(xs, ys):\n",
    "    mean = np.mean(ys)\n",
    "    ss_tot = sum((ys - mean) ** 2)\n",
    "    ss_res = sum((ys - xs) ** 2)\n",
    "    r_squared = 1 - (ss_res / ss_tot)\n",
    "    return r_squared"
   ]
  },
  {
   "cell_type": "code",
   "execution_count": 80,
   "metadata": {},
   "outputs": [],
   "source": [
    "# line reqgression model for the Hubble dataset\n",
    "def line_regression(xs, ys):\n",
    "    slope = covariance / (sigma_X * sigma_Y)\n",
    "    intercept = mu_Y - slope * mu_X\n",
    "    return slope, intercept"
   ]
  },
  {
   "cell_type": "code",
   "execution_count": 81,
   "metadata": {},
   "outputs": [
    {
     "name": "stdout",
     "output_type": "stream",
     "text": [
      "slope = 0.8391399162310663\n",
      "intercept = 424.8455542125611\n"
     ]
    }
   ],
   "source": [
    "slope , intercept = line_regression(Xs, Ys)\n",
    "print(\"slope =\", slope)\n",
    "print(\"intercept =\", intercept)"
   ]
  },
  {
   "cell_type": "code",
   "execution_count": 82,
   "metadata": {},
   "outputs": [],
   "source": [
    "# use some hubble data to test the line regression model\n",
    "Xs_test = np.array([0.0339, 0.0423, 0.213, 0.257, 0.273, 0.273, 0.450, 0.503, 0.503, \\\n",
    "0.637, 0.805, 0.904, 0.904, 0.910, 0.910, 1.02, 1.11, 1.11, 1.41, \\\n",
    "1.72, 2.03, 2.02, 2.02, 2.02])\n",
    "Ys_test = np.array([-19.3, 30.4, 38.7, 5.52, -33.1, -77.3, 398.0, 406.0, 436.0, 320.0, 373.0, \\\n",
    "93.9, 210.0, 423.0, 594.0, 829.0, 718.0, 561.0, 608.0, 1.04E3, 1.10E3, \\\n",
    "840.0, 801.0, 519.0])"
   ]
  },
  {
   "cell_type": "code",
   "execution_count": 83,
   "metadata": {},
   "outputs": [
    {
     "name": "stdout",
     "output_type": "stream",
     "text": [
      "Ys_pred = [424.87400106 424.88104983 425.02429101 425.06121317 425.07463941\n",
      " 425.07463941 425.22316717 425.26764159 425.26764159 425.38008634\n",
      " 425.52106185 425.6041367  425.6041367  425.60917154 425.60917154\n",
      " 425.70147693 425.77699952 425.77699952 426.02874149 426.28887487\n",
      " 426.54900824 426.54061684 426.54061684 426.54061684]\n"
     ]
    }
   ],
   "source": [
    "# predict the Hubble data using the line regression model\n",
    "Ys_pred = intercept + slope * Xs_test\n",
    "print(\"Ys_pred =\", Ys_pred)"
   ]
  },
  {
   "cell_type": "code",
   "execution_count": 84,
   "metadata": {},
   "outputs": [
    {
     "name": "stdout",
     "output_type": "stream",
     "text": [
      "sum_of_squared_residuals = 2789775.007231944\n"
     ]
    }
   ],
   "source": [
    "sum_of_squared_residuals = sum((Ys_test - Ys_pred) ** 2)\n",
    "print(\"sum_of_squared_residuals =\", sum_of_squared_residuals)"
   ]
  },
  {
   "cell_type": "code",
   "execution_count": 85,
   "metadata": {},
   "outputs": [
    {
     "name": "stdout",
     "output_type": "stream",
     "text": [
      "sum_of_squared_total = 2797148.76905\n"
     ]
    }
   ],
   "source": [
    "sum_of_squared_total = sum((Ys_test - np.mean(Ys_test)) ** 2)\n",
    "print(\"sum_of_squared_total =\", sum_of_squared_total)"
   ]
  },
  {
   "cell_type": "code",
   "execution_count": 86,
   "metadata": {},
   "outputs": [
    {
     "name": "stdout",
     "output_type": "stream",
     "text": [
      "r2 = 0.0026361707677637902\n"
     ]
    }
   ],
   "source": [
    "r2 = 1 - (sum_of_squared_residuals / sum_of_squared_total)\n",
    "print(\"r2 =\", r2)"
   ]
  },
  {
   "cell_type": "markdown",
   "metadata": {},
   "source": [
    "___\n",
    "##  Correcting simple nonlinear relationships `Part 5`\n",
    "\n",
    "### Understanding Linear Relationships.\n",
    "A linear relationship exists when two quantities are proportional to each other. If you increase one of the quantities, the other quantity either increases or decreases at a constant rate. For example, if you get paid $10 an hour, there is a linear relationship between your hours worked and your pay. Working another hour always results in a $10 pay increase, regardless of how many hours you already worked.\n",
    "\n",
    "nonlinear relationships are monotonic, meaning they always increase or decrease, but not both. Monotonic relationships differ from linear relationships because they do not increase or decrease at a constant rate. When graphed, they appear as curves. If a monotonic relationship occurs where increases in one entity cause a decrease in the other entity, this is called an inverse relationship. However, nonlinear relationships can also be too irregular to fit any of these categories.\n",
    "\n",
    "### Understanding Nonlinear Relationships\n",
    "Nonlinear relationships, and often monotonic relationships, arise regularly when comparing geometrical measurements of a single shape. For example, there is a monotonic nonlinear relationship between the radius of a sphere and the volume of that same sphere. Nonlinear relationships also appear in real world situations, such as in the relationship between the value of a motorcycle and the amount of time you owned the motorcycle, or in the amount of time it takes to do a job in relation to the number of people there to help. If your boss raises your hourly rate to $15 per hour when you work overtime, the relationship of your hours worked to your pay acquired might become nonlinear.\n",
    "\n",
    "### 5 Examples of Nonlinear Relationships Between Variables.\n",
    "[link](https://www.statology.org/nonlinear-relationship-examples/)\n",
    "___\n",
    "#### Example 1: Quadratic Relationships\n",
    "One of the most common nonlinear relationships in the real world is a quadratic relationship between variables.\n",
    "\n",
    "When plotted on a scatterplot, this relationship typically exhibits a “U” shape.\n",
    "\n",
    "One example might be total working hours per week vs. overall happiness:\n",
    "\n",
    "![Exmaple1](./assets/img/nonlinear-exmaple1.jpg)\n",
    "\n",
    "As working hours increase from zero, overall happiness tends to increase, but beyond a certain threshold more working hours actually leads to decreased happiness.\n",
    "\n",
    "This upside down “U” shape is the signature shape of a quadratic relationship between two variables.\n",
    "___\n",
    "\n",
    "#### Example 3: Exponential Relationships\n",
    "\n",
    "Another common nonlinear relationship in the real world is a cubic relationship between variables.\n",
    "\n",
    "When plotted on a scatterplot, this relationship typically has two distinct curves.\n",
    "\n",
    "This type of relationship exists often between variables in the field of thermodynamics:\n",
    "\n",
    "![exmapl2](./assets/img/nonlinear2.jpg)\n",
    "\n",
    "During the first few years of growth, a bamboo plant grows very slowly but once it reaches a certain age it explodes in height and grows at a rapid pace.\n",
    "___\n",
    "\n",
    "#### Example 4: Logarithmic Relationships\n",
    "Another common nonlinear relationship in the real world is a logarithmic relationship between variables.\n",
    "\n",
    "When plotted on a scatterplot, this relationship exhibits a single curve that becomes less pronounced as the variable on the x-axis increases.\n",
    "\n",
    "One example of a logarithmic relationship is between the efficiency of smart-home technologies and time:\n",
    "![exmaple3](./assets/img/nonlinear3.jpg)\n",
    "\n",
    "When a new smart-home technology (like a self-operating vacuum or self-operating AC unit) is installed in a home, it learns rapidly how to become more efficient, but then once it reaches a certain point it hits a maximum threshold in efficiency.\n",
    "\n",
    "___"
   ]
  },
  {
   "cell_type": "markdown",
   "metadata": {},
   "source": [
    "#### Correlaiton Simple none linear relationship.\n",
    "\n",
    "##### investigate the relationship between the variables?\n",
    "- if you have Data and you whant know what is the relationship between the variables. yo can do thats by scatter plot.\n",
    "\n",
    "\n",
    "___\n",
    "- **Dataset**.\n",
    "\n",
    "\n",
    "```text\n",
    "Each data point is one planet in our solar system (with the addition of the planetoid Pluto, which will be henceforth referred to as a planet for simplicity).\n",
    "\n",
    "The X values are the semi-major axis of each planet's orbit around the Sun. A planetary orbit is elliptical in shape, and the semi-major axis is the longer of the two axes that define the ellipse. When the ellipse is nearly circular (which is true for most planets), the semi-major axis is approximately the radius of said circle. The X values are measured in units of Astronomical Units (AU). One AU is very close to the average distance between the Sun and Earth (defined as 149597870700 meters), hence, the Earth's semi-major axis is essentially 1 AU due to its very circular orbit.\n",
    "\n",
    "The Y values are the orbital period of the planet, measured in Earth years (365.25 days), so Earth also has a Y = 1 year.\n",
    "```"
   ]
  },
  {
   "cell_type": "markdown",
   "metadata": {},
   "source": [
    "*Step One :*\n",
    "draw a scatter plot of the X and Y values."
   ]
  },
  {
   "cell_type": "code",
   "execution_count": 87,
   "metadata": {},
   "outputs": [
    {
     "data": {
      "image/png": "[encoded data removed]",
      "text/plain": [
       "<Figure size 432x288 with 1 Axes>"
      ]
     },
     "metadata": {
      "needs_background": "light"
     },
     "output_type": "display_data"
    }
   ],
   "source": [
    "# Dataset \n",
    "Xs = np.array([ 0.387, 0.723, 1.00, 1.52, 5.20, 9.54, 19.2, 30.1, 39.5 ])\n",
    "\n",
    "Ys = np.array([ 0.241, 0.615, 1.00, 1.88, 11.9, 29.5, 84.0, 165.0, 248 ])\n",
    "\n",
    "N = 9\n",
    "\n",
    "# draw a scatter plot of the data\n",
    "plt.scatter(Xs, Ys)\n",
    "plt.xlabel(\"Xs\")\n",
    "plt.ylabel(\"Ys\")\n",
    "plt.show()"
   ]
  },
  {
   "cell_type": "markdown",
   "metadata": {},
   "source": [
    "\n",
    "*steo Two :*\n",
    "when we are check our chart we can see that the relationship between the semi-major axis and the orbital period is a liner relationship.\n",
    "let us calculate the correlation between the semi-major axis and the orbital period."
   ]
  },
  {
   "cell_type": "code",
   "execution_count": 88,
   "metadata": {},
   "outputs": [
    {
     "name": "stdout",
     "output_type": "stream",
     "text": [
      "correlation_coefficient = 0.9888323018726735\n"
     ]
    }
   ],
   "source": [
    "# correlation coefficient\n",
    "def correlation_coefficient(xs, ys):\n",
    "    covariance = ((xs - np.mean(xs)) * (ys - np.mean(ys))).sum() / (N - 1)\n",
    "    sigma_x = np.sqrt(np.sum((xs - np.mean(xs)) ** 2) / (N - 1))\n",
    "    sigma_y = np.sqrt(np.sum((ys - np.mean(ys)) ** 2) / (N - 1))\n",
    "    r_squared = covariance / (sigma_x * sigma_y)\n",
    "    return r_squared\n",
    "print(\"correlation_coefficient =\", correlation_coefficient(Xs, Ys))"
   ]
  },
  {
   "cell_type": "markdown",
   "metadata": {},
   "source": [
    "there is very strong relationship between the semi-major axis and the orbital period. the correlation is 0.98.\n",
    "\n",
    "OK let us check the residuals. to be sure that the relationship between the semi-major axis and the orbital period is a linear relationship.\n",
    "\n",
    "*Step Three :*\n",
    "we can calculate the residuals."
   ]
  },
  {
   "cell_type": "code",
   "execution_count": 89,
   "metadata": {},
   "outputs": [
    {
     "name": "stdout",
     "output_type": "stream",
     "text": [
      "residuals = [ -4.10082672  -5.35700227  -6.31592675  -7.95881748 -15.7931211\n",
      " -19.24955525 -11.61710224  16.49922672  53.89312509]\n"
     ]
    }
   ],
   "source": [
    "# residuals (difference between the actual and predicted values)\n",
    "def residuals(xs, ys, m, b):\n",
    "    return ys - (m * xs + b)\n",
    "def slope_intercept(xs, ys):\n",
    "    m = (((xs * ys).sum() - (xs.sum() * ys.sum())) / ((xs * xs).sum() - (xs.sum() * xs.sum())))\n",
    "    b = np.mean(ys) - m * np.mean(xs)\n",
    "    return m, b\n",
    "slope_s, intercep_s = slope_intercept(Xs, Ys)\n",
    "print(\"residuals =\", residuals(Xs, Ys, slope_s, intercep_s))"
   ]
  },
  {
   "cell_type": "markdown",
   "metadata": {},
   "source": [
    "*Step Four :*\n",
    "draw a scatter plot of the residuals."
   ]
  },
  {
   "cell_type": "code",
   "execution_count": 90,
   "metadata": {},
   "outputs": [
    {
     "data": {
      "image/png": "[encoded data removed]",
      "text/plain": [
       "<Figure size 432x288 with 1 Axes>"
      ]
     },
     "metadata": {
      "needs_background": "light"
     },
     "output_type": "display_data"
    }
   ],
   "source": [
    "# draw a scatter plot of the residuals\n",
    "plt.scatter(Xs, residuals(Xs, Ys, slope_s, intercep_s))\n",
    "plt.xlabel(\"Xs\")\n",
    "plt.ylabel(\"residuals\")\n",
    "plt.show()"
   ]
  },
  {
   "cell_type": "markdown",
   "metadata": {},
   "source": [
    "if check the residuals we can see that the residuals is noisier, and the relationship between the semi-major axis and the orbital period is not a linear relationship.\n",
    "___\n",
    "\n",
    "- Q-Q plot.(optional)\n",
    "    - is another way to check the relationship between the semi-major axis and the orbital period.\n",
    "you can create this plot by useing **statsmodels** library."
   ]
  },
  {
   "cell_type": "code",
   "execution_count": 91,
   "metadata": {},
   "outputs": [
    {
     "data": {
      "image/png": "[encoded data removed]",
      "text/plain": [
       "<Figure size 432x288 with 1 Axes>"
      ]
     },
     "metadata": {
      "needs_background": "light"
     },
     "output_type": "display_data"
    }
   ],
   "source": [
    "import statsmodels.api as sm\n",
    "sm.qqplot(Xs, line='s')\n",
    "plt.title(\"X distribution\")\n",
    "plt.show()"
   ]
  },
  {
   "cell_type": "markdown",
   "metadata": {},
   "source": [
    "Step Five :\n",
    "if our data nonelinear raletionship is not a linear relationship , we need to transform the data.\n",
    "\n",
    "- what is Transformation data?\n",
    "    - Transformation data is a data that is transformed to make it linear.\n",
    "    - transform data is a process that transforms the data into a form that is more suitable for statistical analysis.\n",
    "- Methods of Transforming Variables to Achieve Linearity\n",
    "\n",
    "![transformtion](./assets/img/transformation.jpg)\n",
    "\n",
    "\n"
   ]
  },
  {
   "cell_type": "code",
   "execution_count": 92,
   "metadata": {},
   "outputs": [
    {
     "name": "stdout",
     "output_type": "stream",
     "text": [
      "log_regression = (1.5006226958660018, -0.00010764292652243324)\n"
     ]
    }
   ],
   "source": [
    "# logrtime regression\n",
    "def log_regression(xs, ys):\n",
    "    log_xs = np.log10(xs)\n",
    "    log_ys = np.log10(ys)\n",
    "    slope, intercept = slope_intercept(log_xs, log_ys)\n",
    "    return slope, intercept\n",
    "print(\"log_regression =\", log_regression(Xs, Ys))"
   ]
  },
  {
   "cell_type": "markdown",
   "metadata": {},
   "source": [
    "## Summary\n",
    "![summary](./assets/img/step_mind_plan.jpg)"
   ]
  },
  {
   "cell_type": "markdown",
   "metadata": {},
   "source": [
    "## Muiltiple Linear Regression `Part 6`\n"
   ]
  },
  {
   "cell_type": "markdown",
   "metadata": {},
   "source": [
    "- what is matrix?\n",
    "    - **define**: matrix is a rectangular array of numbers.\n",
    "    - matrix is a two dimensional array of numbers.\n",
    "- what is vector?\n",
    "    - **define**: vector is a one dimensional array of numbers.\n",
    "    - vector is a one dimensional array of numbers.\n",
    "    - vector is a column of numbers.\n",
    "- exmaple:\n",
    "    - matrix:\n",
    "        - [[1,2,3],[4,5,6]]\n",
    "    - vector:\n",
    "        - [1,2,3]"
   ]
  },
  {
   "cell_type": "code",
   "execution_count": 93,
   "metadata": {},
   "outputs": [
    {
     "name": "stdout",
     "output_type": "stream",
     "text": [
      "A = [[1 2 3]\n",
      " [4 5 6]\n",
      " [7 8 9]]\n",
      "B = [1 2 3]\n"
     ]
    }
   ],
   "source": [
    "# write matrix exmaple and vector example by numPy\n",
    "import numpy as np\n",
    "\n",
    "\n",
    "# matrix example\n",
    "A = np.array([[1, 2, 3], [4, 5, 6], [7, 8, 9]])\n",
    "print(\"A =\", A)\n",
    "\n",
    "\n",
    "# vector example\n",
    "B = np.array([1, 2, 3])\n",
    "print(\"B =\", B)"
   ]
  },
  {
   "cell_type": "code",
   "execution_count": 94,
   "metadata": {},
   "outputs": [
    {
     "name": "stdout",
     "output_type": "stream",
     "text": [
      "A * B = [[ 1  4  9]\n",
      " [ 4 10 18]\n",
      " [ 7 16 27]]\n",
      "-----\n",
      "A + B = [[ 2  4  6]\n",
      " [ 5  7  9]\n",
      " [ 8 10 12]]\n",
      "-----\n",
      "A - B = [[0 0 0]\n",
      " [3 3 3]\n",
      " [6 6 6]]\n"
     ]
    }
   ],
   "source": [
    "print(\"A * B =\", A * B)\n",
    "print(\"-----\")\n",
    "print(\"A + B =\", A + B)\n",
    "print(\"-----\")\n",
    "print(\"A - B =\", A - B)"
   ]
  },
  {
   "cell_type": "markdown",
   "metadata": {},
   "source": [
    "#### Multi linear regression equation.\n",
    "<!-- multi linear regression equation  -->\n",
    "$Y_i= \\beta_0 + \\beta_1 X_1 + \\beta_2 X_2$\n",
    "\n",
    "- **define**:\n",
    "    - $\\beta_0$: intercept\n",
    "    - $\\beta_1$: coefficient of X_1\n",
    "    - $\\beta_2$: coefficient of X_2\n",
    "\n",
    "$\\beta_0 = \\overline{Y} - \\beta_1 X_1 - \\beta_2 X_2$\n",
    "\n",
    "$\\beta_1 = \\overline{Y} - \\beta_0 - \\beta_2 X_2$\n",
    "\n",
    "$Y_i,_j = \\beta_0 + \\beta_1 X_1 + \\beta_2 X_2$\n",
    "\n",
    "- **define**:\n",
    "  - i : row\n",
    "  - j : column\n",
    "\n",
    "add noise terms to equation.\n",
    "\n",
    "$Y_i = \\beta_0 + \\beta_1 X_1 + \\beta_2 X_2 + \\epsilon$\n"
   ]
  },
  {
   "cell_type": "markdown",
   "metadata": {},
   "source": [
    "- What is noise in linear regression?\n",
    "  - Statistical noise refers to variability within a sample, stochastic disturbance in a regression equation, or estimation error. This noise is often represented as a random variable. In the case of a regression equation.\n",
    "---\n",
    "- Good to refresh you mind with [least square method](https://www.mathsisfun.com/data/least-squares-regression.html).\n",
    "\n"
   ]
  },
  {
   "cell_type": "markdown",
   "metadata": {},
   "source": [
    "**Exoplanet mass data.**\n",
    "\n",
    "For this exercise, we will perform multiple linear regression on some exoplanetary data to see if we can find a relationship that can predict the mass of an exoplanet."
   ]
  },
  {
   "cell_type": "code",
   "execution_count": 95,
   "metadata": {},
   "outputs": [],
   "source": [
    "LogPlanetMass = np.array([-0.31471074,  1.01160091,  0.58778666,  0.46373402, -0.01005034,\n",
    "         0.66577598, -1.30933332, -0.37106368, -0.40047757, -0.27443685,\n",
    "         1.30833282, -0.46840491, -1.91054301,  0.16551444,  0.78845736,\n",
    "        -2.43041846,  0.21511138,  2.29253476, -2.05330607, -0.43078292,\n",
    "        -4.98204784, -0.48776035, -1.69298258, -0.08664781, -2.28278247,\n",
    "         3.30431931, -3.27016912,  1.14644962, -3.10109279, -0.61248928])\n",
    "\n",
    "LogPlanetRadius = np.array([ 0.32497786,  0.34712953,  0.14842001,  0.45742485,  0.1889661 ,\n",
    "         0.06952606,  0.07696104,  0.3220835 ,  0.42918163, -0.05762911,\n",
    "         0.40546511,  0.19227189, -0.16251893,  0.45107562,  0.3825376 ,\n",
    "        -0.82098055,  0.10436002,  0.0295588 , -1.17921515,  0.55961579,\n",
    "        -2.49253568,  0.11243543, -0.72037861,  0.36464311, -0.46203546,\n",
    "         0.13976194, -2.70306266,  0.12221763, -2.41374014,  0.35627486])\n",
    "\n",
    "LogPlanetOrbit = np.array([-2.63108916, -3.89026151, -3.13752628, -2.99633245, -3.12356565,\n",
    "        -2.33924908, -2.8507665 , -3.04765735, -2.84043939, -3.19004544,\n",
    "        -3.14655516, -3.13729584, -3.09887303, -3.09004295, -3.16296819,\n",
    "        -2.3227878 , -3.77661837, -2.52572864, -4.13641734, -3.05018846,\n",
    "        -2.40141145, -3.14795149, -0.40361682, -3.2148838 , -2.74575207,\n",
    "        -3.70014265, -1.98923527, -3.35440922, -1.96897409, -2.99773428])\n",
    "\n",
    "StarMetallicity = np.array([ 0.11 , -0.002, -0.4  ,  0.01 ,  0.15 ,  0.22 , -0.01 ,  0.02 ,\n",
    "        -0.06 , -0.127,  0.   ,  0.12 ,  0.27 ,  0.09 , -0.077,  0.3  ,\n",
    "         0.14 , -0.07 ,  0.19 , -0.02 ,  0.12 ,  0.251,  0.07 ,  0.16 ,\n",
    "         0.19 ,  0.052, -0.32 ,  0.258,  0.02 , -0.17 ])\n",
    "\n",
    "LogStarMass = np.array([ 0.27002714,  0.19144646, -0.16369609,  0.44468582,  0.19227189,\n",
    "         0.01291623,  0.0861777 ,  0.1380213 ,  0.49469624, -0.43850496,\n",
    "         0.54232429,  0.02469261,  0.07325046,  0.42133846,  0.2592826 ,\n",
    "        -0.09431068, -0.24846136, -0.12783337, -0.07364654,  0.26159474,\n",
    "         0.07603469, -0.07796154,  0.09440068,  0.07510747,  0.17395331,\n",
    "         0.28893129, -0.21940057,  0.02566775, -0.09211529,  0.16551444])\n",
    "\n",
    "LogStarAge = np.array([ 1.58103844,  1.06471074,  2.39789527,  0.72754861,  0.55675456,\n",
    "         1.91692261,  1.64865863,  1.38629436,  0.77472717,  1.36097655,\n",
    "         0.        ,  1.80828877,  1.7837273 ,  0.64185389,  0.69813472,\n",
    "         2.39789527, -0.35667494,  1.79175947,  1.90210753,  1.39624469,\n",
    "         1.84054963,  2.19722458,  1.89761986,  1.84054963,  0.74193734,\n",
    "         0.55961579,  1.79175947,  0.91629073,  2.17475172,  1.36097655])\n",
    "\n",
    "N = 30"
   ]
  },
  {
   "cell_type": "markdown",
   "metadata": {},
   "source": [
    "- **LogPlanetMass** is the logarithm of the observed exoplanet's mass in units of Jupiter's mass.\n",
    "- **A LogPlanetMass** of zero is an exoplanet with the same mass as Jupiter. Jupiter is used as a convenient comparison, as large gas giants are the most easily detected, and thus most commonly observed, kind of exoplanet. \n",
    "- **LogPlanetRadius** is the logarithm of the observed exoplanet's radius in units of Jupiter's radius, for much the same reason. \n",
    "- **LogPlanetOrbit** is the logarithm of the observed planet's semi-major axis of orbit, in units of AU. \n",
    "- **StarMetallicity** is the relative amount of metals observed in the parent star. It is equal to the logarithm of the ratio of the observed abundance of metal to the observed abundance of metal in the Sun. The Sun is a quite average star, so it serves as a good reference point. The most common metal to measure is Iron, but astronomers define any element that isn't Hydrogen or Helium as a metal. \n",
    "- **LogStarMass** is the logarithm of the parent star's mass in units of the Sun's mass. LogStarAge is the logarithm of the parent star's age in giga-years."
   ]
  },
  {
   "cell_type": "code",
   "execution_count": 149,
   "metadata": {},
   "outputs": [
    {
     "name": "stdout",
     "output_type": "stream",
     "text": [
      "y = [-0.31471074  1.01160091  0.58778666  0.46373402 -0.01005034  0.66577598\n",
      " -1.30933332 -0.37106368 -0.40047757 -0.27443685  1.30833282 -0.46840491\n",
      " -1.91054301  0.16551444  0.78845736 -2.43041846  0.21511138  2.29253476\n",
      " -2.05330607 -0.43078292 -4.98204784 -0.48776035 -1.69298258 -0.08664781\n",
      " -2.28278247  3.30431931 -3.27016912  1.14644962 -3.10109279 -0.61248928]\n"
     ]
    }
   ],
   "source": [
    "# y is vector of LogPlanetMass\n",
    "y = np.array([LogPlanetMass[i] for i in range(N)])\n",
    "print(\"y =\", y)"
   ]
  },
  {
   "cell_type": "code",
   "execution_count": 167,
   "metadata": {},
   "outputs": [
    {
     "name": "stdout",
     "output_type": "stream",
     "text": [
      "x = [[ 1.00000000e+00  3.24977860e-01 -2.63108916e+00  1.10000000e-01\n",
      "   2.70027140e-01  1.58103844e+00]\n",
      " [ 1.00000000e+00  3.47129530e-01 -3.89026151e+00 -2.00000000e-03\n",
      "   1.91446460e-01  1.06471074e+00]\n",
      " [ 1.00000000e+00  1.48420010e-01 -3.13752628e+00 -4.00000000e-01\n",
      "  -1.63696090e-01  2.39789527e+00]\n",
      " [ 1.00000000e+00  4.57424850e-01 -2.99633245e+00  1.00000000e-02\n",
      "   4.44685820e-01  7.27548610e-01]\n",
      " [ 1.00000000e+00  1.88966100e-01 -3.12356565e+00  1.50000000e-01\n",
      "   1.92271890e-01  5.56754560e-01]\n",
      " [ 1.00000000e+00  6.95260600e-02 -2.33924908e+00  2.20000000e-01\n",
      "   1.29162300e-02  1.91692261e+00]\n",
      " [ 1.00000000e+00  7.69610400e-02 -2.85076650e+00 -1.00000000e-02\n",
      "   8.61777000e-02  1.64865863e+00]\n",
      " [ 1.00000000e+00  3.22083500e-01 -3.04765735e+00  2.00000000e-02\n",
      "   1.38021300e-01  1.38629436e+00]\n",
      " [ 1.00000000e+00  4.29181630e-01 -2.84043939e+00 -6.00000000e-02\n",
      "   4.94696240e-01  7.74727170e-01]\n",
      " [ 1.00000000e+00 -5.76291100e-02 -3.19004544e+00 -1.27000000e-01\n",
      "  -4.38504960e-01  1.36097655e+00]\n",
      " [ 1.00000000e+00  4.05465110e-01 -3.14655516e+00  0.00000000e+00\n",
      "   5.42324290e-01  0.00000000e+00]\n",
      " [ 1.00000000e+00  1.92271890e-01 -3.13729584e+00  1.20000000e-01\n",
      "   2.46926100e-02  1.80828877e+00]\n",
      " [ 1.00000000e+00 -1.62518930e-01 -3.09887303e+00  2.70000000e-01\n",
      "   7.32504600e-02  1.78372730e+00]\n",
      " [ 1.00000000e+00  4.51075620e-01 -3.09004295e+00  9.00000000e-02\n",
      "   4.21338460e-01  6.41853890e-01]\n",
      " [ 1.00000000e+00  3.82537600e-01 -3.16296819e+00 -7.70000000e-02\n",
      "   2.59282600e-01  6.98134720e-01]\n",
      " [ 1.00000000e+00 -8.20980550e-01 -2.32278780e+00  3.00000000e-01\n",
      "  -9.43106800e-02  2.39789527e+00]\n",
      " [ 1.00000000e+00  1.04360020e-01 -3.77661837e+00  1.40000000e-01\n",
      "  -2.48461360e-01 -3.56674940e-01]\n",
      " [ 1.00000000e+00  2.95588000e-02 -2.52572864e+00 -7.00000000e-02\n",
      "  -1.27833370e-01  1.79175947e+00]\n",
      " [ 1.00000000e+00 -1.17921515e+00 -4.13641734e+00  1.90000000e-01\n",
      "  -7.36465400e-02  1.90210753e+00]\n",
      " [ 1.00000000e+00  5.59615790e-01 -3.05018846e+00 -2.00000000e-02\n",
      "   2.61594740e-01  1.39624469e+00]\n",
      " [ 1.00000000e+00 -2.49253568e+00 -2.40141145e+00  1.20000000e-01\n",
      "   7.60346900e-02  1.84054963e+00]\n",
      " [ 1.00000000e+00  1.12435430e-01 -3.14795149e+00  2.51000000e-01\n",
      "  -7.79615400e-02  2.19722458e+00]\n",
      " [ 1.00000000e+00 -7.20378610e-01 -4.03616820e-01  7.00000000e-02\n",
      "   9.44006800e-02  1.89761986e+00]\n",
      " [ 1.00000000e+00  3.64643110e-01 -3.21488380e+00  1.60000000e-01\n",
      "   7.51074700e-02  1.84054963e+00]\n",
      " [ 1.00000000e+00 -4.62035460e-01 -2.74575207e+00  1.90000000e-01\n",
      "   1.73953310e-01  7.41937340e-01]\n",
      " [ 1.00000000e+00  1.39761940e-01 -3.70014265e+00  5.20000000e-02\n",
      "   2.88931290e-01  5.59615790e-01]\n",
      " [ 1.00000000e+00 -2.70306266e+00 -1.98923527e+00 -3.20000000e-01\n",
      "  -2.19400570e-01  1.79175947e+00]\n",
      " [ 1.00000000e+00  1.22217630e-01 -3.35440922e+00  2.58000000e-01\n",
      "   2.56677500e-02  9.16290730e-01]\n",
      " [ 1.00000000e+00 -2.41374014e+00 -1.96897409e+00  2.00000000e-02\n",
      "  -9.21152900e-02  2.17475172e+00]\n",
      " [ 1.00000000e+00  3.56274860e-01 -2.99773428e+00 -1.70000000e-01\n",
      "   1.65514440e-01  1.36097655e+00]]\n"
     ]
    }
   ],
   "source": [
    "# x is matrix of LogPlanetRadius, LogPlanetOrbit, StarMetallicity, LogStarMass, LogStarAge\n",
    "x = np.array([[LogPlanetRadius[i], LogPlanetOrbit[i], StarMetallicity[i], LogStarMass[i], LogStarAge[i]] for i in range(N)])\n",
    "# add a column of ones to x\n",
    "x = np.concatenate((np.ones((N, 1)), x), axis=1)\n",
    "print(\"x =\", x)"
   ]
  },
  {
   "cell_type": "code",
   "execution_count": 168,
   "metadata": {},
   "outputs": [
    {
     "name": "stdout",
     "output_type": "stream",
     "text": [
      "x.shape = (30, 6)\n",
      "y.shape = (30,)\n"
     ]
    }
   ],
   "source": [
    "print(\"x.shape =\", x.shape)\n",
    "print(\"y.shape =\", y.shape)"
   ]
  },
  {
   "cell_type": "code",
   "execution_count": 173,
   "metadata": {},
   "outputs": [
    {
     "name": "stdout",
     "output_type": "stream",
     "text": [
      "theta = [ 0.15379303  1.40214538 -0.14099818 -1.59951364 -0.95610919 -0.46176234]\n"
     ]
    }
   ],
   "source": [
    "# Estimating the coefficients\n",
    "def estimate_coefficients(x, y):\n",
    "    # theta is the vector of coefficients\n",
    "    theta = np.linalg.inv(x.T @ x) @ x.T @ y\n",
    "    return theta\n",
    "print(\"theta =\", estimate_coefficients(x, y))"
   ]
  },
  {
   "cell_type": "code",
   "execution_count": 175,
   "metadata": {},
   "outputs": [
    {
     "name": "stdout",
     "output_type": "stream",
     "text": [
      "model(x, theta) = [-0.18374791  0.51755089  0.49334404  0.44052872  0.17831981 -0.66829645\n",
      " -0.16403212  0.23102284  0.42131224  0.5167284   0.64745139 -0.18481093\n",
      " -0.96270888  0.37877132  0.68902688 -2.16677271  1.01094062 -0.04181651\n",
      " -2.02822579  0.50567069 -4.11704531 -0.58623444 -1.87784597 -0.05926116\n",
      " -0.91972647  0.25363892 -3.46156701 -0.06219871 -3.90113623  0.561237  ]\n"
     ]
    }
   ],
   "source": [
    "# model is a function that takes in a vector of x values and returns a vector of y values\n",
    "def model(x, theta):\n",
    "    return x @ theta\n",
    "print(\"model(x, theta) =\", model(x, estimate_coefficients(x, y)))"
   ]
  },
  {
   "cell_type": "code",
   "execution_count": 176,
   "metadata": {},
   "outputs": [
    {
     "name": "stdout",
     "output_type": "stream",
     "text": [
      "y_pro = [-0.18374791  0.51755089  0.49334404  0.44052872  0.17831981 -0.66829645\n",
      " -0.16403212  0.23102284  0.42131224  0.5167284   0.64745139 -0.18481093\n",
      " -0.96270888  0.37877132  0.68902688 -2.16677271  1.01094062 -0.04181651\n",
      " -2.02822579  0.50567069 -4.11704531 -0.58623444 -1.87784597 -0.05926116\n",
      " -0.91972647  0.25363892 -3.46156701 -0.06219871 -3.90113623  0.561237  ]\n"
     ]
    }
   ],
   "source": [
    "y_pro= model(x, estimate_coefficients(x, y))\n",
    "print(\"y_pro =\", y_pro)"
   ]
  },
  {
   "cell_type": "code",
   "execution_count": 177,
   "metadata": {},
   "outputs": [],
   "source": [
    "import seaborn as sns"
   ]
  },
  {
   "cell_type": "code",
   "execution_count": 183,
   "metadata": {},
   "outputs": [
    {
     "name": "stdout",
     "output_type": "stream",
     "text": [
      "data = [[ 3.24977860e-01  3.47129530e-01  1.48420010e-01  4.57424850e-01\n",
      "   1.88966100e-01  6.95260600e-02  7.69610400e-02  3.22083500e-01\n",
      "   4.29181630e-01 -5.76291100e-02  4.05465110e-01  1.92271890e-01\n",
      "  -1.62518930e-01  4.51075620e-01  3.82537600e-01 -8.20980550e-01\n",
      "   1.04360020e-01  2.95588000e-02 -1.17921515e+00  5.59615790e-01\n",
      "  -2.49253568e+00  1.12435430e-01 -7.20378610e-01  3.64643110e-01\n",
      "  -4.62035460e-01  1.39761940e-01 -2.70306266e+00  1.22217630e-01\n",
      "  -2.41374014e+00  3.56274860e-01]\n",
      " [-2.63108916e+00 -3.89026151e+00 -3.13752628e+00 -2.99633245e+00\n",
      "  -3.12356565e+00 -2.33924908e+00 -2.85076650e+00 -3.04765735e+00\n",
      "  -2.84043939e+00 -3.19004544e+00 -3.14655516e+00 -3.13729584e+00\n",
      "  -3.09887303e+00 -3.09004295e+00 -3.16296819e+00 -2.32278780e+00\n",
      "  -3.77661837e+00 -2.52572864e+00 -4.13641734e+00 -3.05018846e+00\n",
      "  -2.40141145e+00 -3.14795149e+00 -4.03616820e-01 -3.21488380e+00\n",
      "  -2.74575207e+00 -3.70014265e+00 -1.98923527e+00 -3.35440922e+00\n",
      "  -1.96897409e+00 -2.99773428e+00]\n",
      " [ 1.10000000e-01 -2.00000000e-03 -4.00000000e-01  1.00000000e-02\n",
      "   1.50000000e-01  2.20000000e-01 -1.00000000e-02  2.00000000e-02\n",
      "  -6.00000000e-02 -1.27000000e-01  0.00000000e+00  1.20000000e-01\n",
      "   2.70000000e-01  9.00000000e-02 -7.70000000e-02  3.00000000e-01\n",
      "   1.40000000e-01 -7.00000000e-02  1.90000000e-01 -2.00000000e-02\n",
      "   1.20000000e-01  2.51000000e-01  7.00000000e-02  1.60000000e-01\n",
      "   1.90000000e-01  5.20000000e-02 -3.20000000e-01  2.58000000e-01\n",
      "   2.00000000e-02 -1.70000000e-01]\n",
      " [ 2.70027140e-01  1.91446460e-01 -1.63696090e-01  4.44685820e-01\n",
      "   1.92271890e-01  1.29162300e-02  8.61777000e-02  1.38021300e-01\n",
      "   4.94696240e-01 -4.38504960e-01  5.42324290e-01  2.46926100e-02\n",
      "   7.32504600e-02  4.21338460e-01  2.59282600e-01 -9.43106800e-02\n",
      "  -2.48461360e-01 -1.27833370e-01 -7.36465400e-02  2.61594740e-01\n",
      "   7.60346900e-02 -7.79615400e-02  9.44006800e-02  7.51074700e-02\n",
      "   1.73953310e-01  2.88931290e-01 -2.19400570e-01  2.56677500e-02\n",
      "  -9.21152900e-02  1.65514440e-01]\n",
      " [ 1.58103844e+00  1.06471074e+00  2.39789527e+00  7.27548610e-01\n",
      "   5.56754560e-01  1.91692261e+00  1.64865863e+00  1.38629436e+00\n",
      "   7.74727170e-01  1.36097655e+00  0.00000000e+00  1.80828877e+00\n",
      "   1.78372730e+00  6.41853890e-01  6.98134720e-01  2.39789527e+00\n",
      "  -3.56674940e-01  1.79175947e+00  1.90210753e+00  1.39624469e+00\n",
      "   1.84054963e+00  2.19722458e+00  1.89761986e+00  1.84054963e+00\n",
      "   7.41937340e-01  5.59615790e-01  1.79175947e+00  9.16290730e-01\n",
      "   2.17475172e+00  1.36097655e+00]\n",
      " [-3.14710740e-01  1.01160091e+00  5.87786660e-01  4.63734020e-01\n",
      "  -1.00503400e-02  6.65775980e-01 -1.30933332e+00 -3.71063680e-01\n",
      "  -4.00477570e-01 -2.74436850e-01  1.30833282e+00 -4.68404910e-01\n",
      "  -1.91054301e+00  1.65514440e-01  7.88457360e-01 -2.43041846e+00\n",
      "   2.15111380e-01  2.29253476e+00 -2.05330607e+00 -4.30782920e-01\n",
      "  -4.98204784e+00 -4.87760350e-01 -1.69298258e+00 -8.66478100e-02\n",
      "  -2.28278247e+00  3.30431931e+00 -3.27016912e+00  1.14644962e+00\n",
      "  -3.10109279e+00 -6.12489280e-01]]\n"
     ]
    }
   ],
   "source": [
    "data = np.array([LogPlanetRadius, LogPlanetOrbit, StarMetallicity, LogStarMass, LogStarAge,LogPlanetMass])\n",
    "print(\"data =\", data)"
   ]
  },
  {
   "cell_type": "code",
   "execution_count": 193,
   "metadata": {},
   "outputs": [
    {
     "name": "stdout",
     "output_type": "stream",
     "text": [
      "theta = [ 0.15379303  1.40214538 -0.14099818 -1.59951364 -0.95610919 -0.46176234]\n",
      "theta_order = [3 4 5 2 0 1]\n"
     ]
    }
   ],
   "source": [
    "# estimate_coefficients with heat map \n",
    "def estimate_coefficients_heatmap(x, y):\n",
    "    # theta is the vector of coefficients\n",
    "    theta = np.linalg.inv(x.T @ x) @ x.T @ y\n",
    "    return theta\n",
    "print(\"theta =\", estimate_coefficients_heatmap(x, y))\n",
    "# order by theta\n",
    "theta_order = np.argsort(estimate_coefficients_heatmap(x, y))\n",
    "print(\"theta_order =\", theta_order)\n",
    "\n"
   ]
  }
 ],
 "metadata": {
  "interpreter": {
   "hash": "949777d72b0d2535278d3dc13498b2535136f6dfe0678499012e853ee9abcab1"
  },
  "kernelspec": {
   "display_name": "Python 3.9.12 64-bit",
   "language": "python",
   "name": "python3"
  },
  "language_info": {
   "codemirror_mode": {
    "name": "ipython",
    "version": 3
   },
   "file_extension": ".py",
   "mimetype": "text/x-python",
   "name": "python",
   "nbconvert_exporter": "python",
   "pygments_lexer": "ipython3",
   "version": "3.9.12"
  },
  "orig_nbformat": 4
 },
 "nbformat": 4,
 "nbformat_minor": 2
}
