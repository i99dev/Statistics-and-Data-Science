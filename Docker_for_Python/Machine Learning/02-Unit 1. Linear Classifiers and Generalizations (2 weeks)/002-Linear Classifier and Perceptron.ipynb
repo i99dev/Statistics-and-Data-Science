{
 "cells": [
  {
   "cell_type": "markdown",
   "metadata": {},
   "source": [
    "### Linear Separation `part 4`"
   ]
  },
  {
   "cell_type": "markdown",
   "metadata": {},
   "source": [
    "- how calculate the error rate?\n",
    "  - $E(h) = \\frac{1}{n} \\sum_{i=1}^{n} \\left( y_i - \\hat{y}_i \\right)$.\n",
    "  - if $h(x_i) = \\hat{y}_i$, then $E(h) = 0$ or $E(h) = \\frac{1}{n}$.\n",
    "- what is h mean?\n",
    "  - $h = \\sum_{i=1}^{n} \\left( x_i \\cdot w \\right)$"
   ]
  },
  {
   "cell_type": "markdown",
   "metadata": {},
   "source": [
    "#### Linear Classifiers Mathematically Revisited\n",
    "\n",
    "- how get theta from w?\n",
    "  - $w = \\sum_{i=1}^{n} \\left( x_i \\cdot y_i \\right)$"
   ]
  },
  {
   "cell_type": "code",
   "execution_count": 1,
   "metadata": {},
   "outputs": [
    {
     "name": "stdout",
     "output_type": "stream",
     "text": [
      "2\n"
     ]
    }
   ],
   "source": [
    "# What is the inner product of [0,1,1] and [1,1,1]?\n",
    "def inner_product(v1, v2):\n",
    "    return sum([v1[i] * v2[i] for i in range(len(v1))])\n",
    "print(inner_product([0,1,1], [1,1,1]))"
   ]
  },
  {
   "cell_type": "code",
   "execution_count": 3,
   "metadata": {},
   "outputs": [
    {
     "name": "stdout",
     "output_type": "stream",
     "text": [
      "[-0.1, 0.9, 0.9]\n"
     ]
    }
   ],
   "source": [
    "# Offset theta by the learning rate times the gradient\n",
    "def update_theta(theta, gradient, learning_rate):\n",
    "    return [theta[i] - learning_rate * gradient[i] for i in range(len(theta))]\n",
    "print(update_theta([0,1,1], [1,1,1], 0.1))"
   ]
  }
 ],
 "metadata": {
  "interpreter": {
   "hash": "949777d72b0d2535278d3dc13498b2535136f6dfe0678499012e853ee9abcab1"
  },
  "kernelspec": {
   "display_name": "Python 3.9.12 64-bit",
   "language": "python",
   "name": "python3"
  },
  "language_info": {
   "codemirror_mode": {
    "name": "ipython",
    "version": 3
   },
   "file_extension": ".py",
   "mimetype": "text/x-python",
   "name": "python",
   "nbconvert_exporter": "python",
   "pygments_lexer": "ipython3",
   "version": "3.9.12"
  },
  "orig_nbformat": 4
 },
 "nbformat": 4,
 "nbformat_minor": 2
}
