{
 "cells": [
  {
   "cell_type": "markdown",
   "metadata": {},
   "source": [
    "# Linear Classification and Generalization"
   ]
  },
  {
   "cell_type": "markdown",
   "metadata": {},
   "source": [
    "##### Objectives Function\n",
    "Let us start with objective function , when start design our model, we need select the best hyperparameters.\n",
    "to do thats i need to use the objective function.\n",
    "\n",
    "- why i need use objective function?\n",
    " - because i need to select the best hyperparameters.\n",
    "- what is objective function?\n",
    "    - objective function is the function that we need to minimize cost function."
   ]
  }
 ],
 "metadata": {
  "language_info": {
   "name": "python"
  },
  "orig_nbformat": 4
 },
 "nbformat": 4,
 "nbformat_minor": 2
}
