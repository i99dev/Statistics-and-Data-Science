{
 "cells": [
  {
   "cell_type": "code",
   "execution_count": 1,
   "metadata": {},
   "outputs": [],
   "source": [
    "import numpy as np"
   ]
  },
  {
   "cell_type": "code",
   "execution_count": 2,
   "metadata": {},
   "outputs": [],
   "source": [
    "def randomization(n):\n",
    "    \"\"\"\n",
    "    Generates a random array of size n\n",
    "    \"\"\"\n",
    "    return np.random.rand(n)"
   ]
  },
  {
   "cell_type": "code",
   "execution_count": 4,
   "metadata": {},
   "outputs": [],
   "source": [
    "def operations(h, w):\n",
    "    A = np.random.randint(1, 10, (h, w))\n",
    "    B = np.random.randint(1, 10, (h, w))\n",
    "    s = A + B\n",
    "    return A, B, s"
   ]
  },
  {
   "cell_type": "code",
   "execution_count": 25,
   "metadata": {},
   "outputs": [],
   "source": [
    "def norm(A, B):\n",
    "    \"\"\"\n",
    "    Calculates the norm of A and B\n",
    "    \"\"\"\n",
    "    return np.linalg.norm(A + B)"
   ]
  },
  {
   "cell_type": "code",
   "execution_count": 150,
   "metadata": {},
   "outputs": [],
   "source": [
    "def neural_network(inputs, weights):\n",
    "    neural = (inputs * weights).sum()\n",
    "    # return neural is array\n",
    "    return np.tanh(np.array([[neural]]))"
   ]
  },
  {
   "cell_type": "code",
   "execution_count": 151,
   "metadata": {},
   "outputs": [
    {
     "name": "stdout",
     "output_type": "stream",
     "text": [
      "input shape [[50]\n",
      " [45]]\n",
      "weights shape [[0.5]\n",
      " [0.5]]\n",
      "neural network [[1.]]\n"
     ]
    }
   ],
   "source": [
    "inputs = np.array([[50], [45]])\n",
    "weights = np.array([[0.5], [0.5]])\n",
    "print(\"input shape\", inputs)\n",
    "print(\"weights shape\", weights)\n",
    "print(\"neural network\", neural_network(inputs, weights))"
   ]
  },
  {
   "cell_type": "code",
   "execution_count": 157,
   "metadata": {},
   "outputs": [],
   "source": [
    "def get_sum_metrics(predictions, metrics=[]):\n",
    "    for i in range(3):\n",
    "        metrics.append(lambda x: x + i)\n",
    "\n",
    "    sum_metrics = 0\n",
    "    for metric in metrics:\n",
    "        sum_metrics += metric(predictions)\n",
    "\n",
    "    return sum_metrics\n"
   ]
  }
 ],
 "metadata": {
  "interpreter": {
   "hash": "949777d72b0d2535278d3dc13498b2535136f6dfe0678499012e853ee9abcab1"
  },
  "kernelspec": {
   "display_name": "Python 3.9.12 64-bit",
   "language": "python",
   "name": "python3"
  },
  "language_info": {
   "codemirror_mode": {
    "name": "ipython",
    "version": 3
   },
   "file_extension": ".py",
   "mimetype": "text/x-python",
   "name": "python",
   "nbconvert_exporter": "python",
   "pygments_lexer": "ipython3",
   "version": "3.9.12"
  },
  "orig_nbformat": 4
 },
 "nbformat": 4,
 "nbformat_minor": 2
}
