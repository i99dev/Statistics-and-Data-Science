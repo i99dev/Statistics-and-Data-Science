{
 "cells": [
  {
   "cell_type": "markdown",
   "metadata": {},
   "source": [
    "# Clssification."
   ]
  },
  {
   "cell_type": "markdown",
   "metadata": {},
   "source": [
    "- What is calssification?\n",
    "    - classification is the process of assigning a label to a set of objects.\n",
    "- how many classifiers are there?\n",
    "    - binary classifier\n",
    "    - multi-classifier\n",
    "- what is the difference between binary and multi-classifier?\n",
    "    - binary classifier:\n",
    "        - only two classes\n",
    "        - only one classifier\n",
    "    - multi-classifier:\n",
    "        - more than two classes\n",
    "        - more than one classifier\n",
    "![photo](./assets/img/LossFunction_en.png)\n",
    "\n",
    "___\n",
    "- what is underfiting and overfitting?\n",
    "    - Overfitting and underfitting are two of the most common causes of poor model accuracy. The model fit can be predicted by taking a look at the prediction error on the training and test data.\n",
    "\n",
    "![photo](./assets/img/uf-of.png)\n",
    "___\n",
    "\n",
    "- Implications of Training and Validation Loss.\n",
    "    - Training loss is the error of the model on the training data.\n",
    "    - Validation loss is the error of the model on the validation data.\n",
    "- what is validation data?\n",
    "    - validation data is the data that is used to validate the model.\n",
    "- Underfitting and Overfitting.\n",
    "    - Underfitting is when the model is too weak to generalize to new data.\n",
    "    - Overfitting is when the model is too strong to generalize to new data.\n",
    "___\n",
    "\n",
    "- underfitting.\n",
    "    -  the image illustrates that the training loss and validation loss are both high.\n",
    "    ![underfitting](./assets/img/underfiting.png)\n",
    "___\n",
    "\n",
    "- Overfitting.\n",
    "    -  the validation loss is greater than the training loss.\n",
    "    ![overfitting](./assets/img/overfitting.png)\n",
    "\n",
    "___\n",
    "- Good Fit.\n",
    "    - the training loss and validation loss both decrease and stabilize at a specific point\n",
    "![goodfit](./assets/img/goofit.png)"
   ]
  }
 ],
 "metadata": {
  "interpreter": {
   "hash": "949777d72b0d2535278d3dc13498b2535136f6dfe0678499012e853ee9abcab1"
  },
  "kernelspec": {
   "display_name": "Python 3.9.12 64-bit",
   "language": "python",
   "name": "python3"
  },
  "language_info": {
   "name": "python",
   "version": "3.9.12"
  },
  "orig_nbformat": 4
 },
 "nbformat": 4,
 "nbformat_minor": 2
}
