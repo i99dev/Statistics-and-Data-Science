{
 "cells": [
  {
   "cell_type": "markdown",
   "metadata": {},
   "source": [
    "# Gradinent Descent "
   ]
  },
  {
   "cell_type": "markdown",
   "metadata": {},
   "source": [
    "### Convexity\n",
    "\n",
    "- what is convexity?\n",
    " - convexity is the property of a function that is increasing or decreasing in a convex manner.\n",
    "- what is a convex equation?\n",
    "    - $ f(\\theta_x + (1 - \\theta)y) <= \\theta_f(x) + (1 - \\theta)f(y) $\n",
    "- exmaple if theta = 0.2:\n",
    "    - $ f(0.2 + (1 - 0.2)y) <= 0.2 + (1 - 0.2)f(y) $\n",
    "    "
   ]
  }
 ],
 "metadata": {
  "interpreter": {
   "hash": "949777d72b0d2535278d3dc13498b2535136f6dfe0678499012e853ee9abcab1"
  },
  "kernelspec": {
   "display_name": "Python 3.9.12 64-bit",
   "language": "python",
   "name": "python3"
  },
  "language_info": {
   "codemirror_mode": {
    "name": "ipython",
    "version": 3
   },
   "file_extension": ".py",
   "mimetype": "text/x-python",
   "name": "python",
   "nbconvert_exporter": "python",
   "pygments_lexer": "ipython3",
   "version": "3.9.12"
  },
  "orig_nbformat": 4
 },
 "nbformat": 4,
 "nbformat_minor": 2
}
